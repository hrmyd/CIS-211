{
 "cells": [
  {
   "cell_type": "markdown",
   "metadata": {},
   "source": [
    "##### <span style=\"color:red\">Name:</span>"
   ]
  },
  {
   "cell_type": "markdown",
   "metadata": {},
   "source": [
    "Hiranmayi Duvvuri\n",
    "951198138"
   ]
  },
  {
   "cell_type": "markdown",
   "metadata": {},
   "source": [
    "# <span style=\"color:teal;\">CIS 211 Project 7:  &nbsp; Functional Programming</span>"
   ]
  },
  {
   "cell_type": "markdown",
   "metadata": {},
   "source": [
    "##### Due 11:00 P.M. Monday June 1"
   ]
  },
  {
   "cell_type": "markdown",
   "metadata": {},
   "source": [
    "##### Reading:  Perkovic Sec 12.3"
   ]
  },
  {
   "cell_type": "markdown",
   "metadata": {},
   "source": [
    "The project this week is to write small Python functions that each use one or more functional programing (FP) constructs. \n",
    "\n",
    "The grading standards for this project are:\n",
    "* 50% for correctness (the function produces the expected results)\n",
    "* 50% for programming style (you use FP constructs where appropriate, plus other good programming style)\n",
    "\n",
    "You are allowed to write additional “helper functions” if you think it will make your code easier to understand."
   ]
  },
  {
   "cell_type": "markdown",
   "metadata": {},
   "source": [
    "#### Programs "
   ]
  },
  {
   "cell_type": "markdown",
   "metadata": {},
   "source": [
    "There are 6 programming projects in this notebook.  The first one has been filled in already to give you an example of what is expected for this project.  Your job is to fill in the description, function definition, and test cells for the other 5 projects."
   ]
  },
  {
   "cell_type": "markdown",
   "metadata": {},
   "source": [
    "### `tokens` "
   ]
  },
  {
   "cell_type": "markdown",
   "metadata": {},
   "source": [
    "Write a function named `tokens` that will split an input string into individual words and remove the punctuation marks from the ends of the words.\n",
    "<pre>\n",
    "   >>> tokens(\"Buy now! Only $29.95!  But wait, there's more!\")\n",
    "   [ 'Buy', 'now', 'Only', '29.95', 'But', 'wait', \"there's\", 'more' ]\n",
    "</pre>\n",
    "\n",
    "You can use the `strip_punctuation` function demonstrated in class as a helper function."
   ]
  },
  {
   "cell_type": "markdown",
   "metadata": {},
   "source": [
    "##### <span style=\"color:red\">Description:</span>"
   ]
  },
  {
   "cell_type": "markdown",
   "metadata": {},
   "source": [
    "This function calls `split` to break the sentence into substrings, then uses `map` to remove punctuation marks from each of the substrings.  The function passed as the first argument to `map` is defined by a `lambda` expression.  It takes a single string as input, and the output is the result of calling the `strip` method to remove any symbols in `punctuation` (a string imported from the `string` module)."
   ]
  },
  {
   "cell_type": "markdown",
   "metadata": {},
   "source": [
    "##### <span style=\"color:red\">Function Definition:</span>"
   ]
  },
  {
   "cell_type": "code",
   "execution_count": 1,
   "metadata": {
    "collapsed": true
   },
   "outputs": [],
   "source": [
    "from string import punctuation"
   ]
  },
  {
   "cell_type": "code",
   "execution_count": 2,
   "metadata": {
    "collapsed": true
   },
   "outputs": [],
   "source": [
    "def tokens(s):\n",
    "    \"Create a list of words in string s\"\n",
    "    return list(map(lambda x: x.strip(punctuation), s.split()))"
   ]
  },
  {
   "cell_type": "markdown",
   "metadata": {},
   "source": [
    "##### <span style=\"color:red\">Tests:</span>"
   ]
  },
  {
   "cell_type": "code",
   "execution_count": null,
   "metadata": {
    "collapsed": true
   },
   "outputs": [],
   "source": [
    "? tokens"
   ]
  },
  {
   "cell_type": "code",
   "execution_count": null,
   "metadata": {
    "collapsed": false
   },
   "outputs": [],
   "source": [
    "tokens(\"Buy now! Only $29.95!  But wait, there's more!\")"
   ]
  },
  {
   "cell_type": "code",
   "execution_count": null,
   "metadata": {
    "collapsed": false
   },
   "outputs": [],
   "source": [
    "tokens('\"A long time ago, in a galaxy far, far away...\"')"
   ]
  },
  {
   "cell_type": "code",
   "execution_count": null,
   "metadata": {
    "collapsed": false
   },
   "outputs": [],
   "source": [
    "tokens('Hi!')"
   ]
  },
  {
   "cell_type": "code",
   "execution_count": null,
   "metadata": {
    "collapsed": false
   },
   "outputs": [],
   "source": [
    "tokens('^%$#!@')"
   ]
  },
  {
   "cell_type": "markdown",
   "metadata": {},
   "source": [
    "### <span style=\"color:teal\">`codes`</span>"
   ]
  },
  {
   "cell_type": "markdown",
   "metadata": {},
   "source": [
    "Write a function named `codes` that returns a list of numeric codes for the characters in a string. \n",
    "\n",
    "If `ch` is a character (a 1-letter string) the builtin function named `ord` will return its character code:\n",
    "<pre>\n",
    "   >>> ord('A')\n",
    "   65\n",
    "</pre>\n",
    "\n",
    "Here is an example of what your codes function should produce: \n",
    "<pre>\n",
    "  >>> codes('Aloha')\n",
    "  [65, 108, 111, 104, 97]\n",
    "</pre>"
   ]
  },
  {
   "cell_type": "markdown",
   "metadata": {},
   "source": [
    "##### <span style=\"color:red\">Description:</span>"
   ]
  },
  {
   "cell_type": "markdown",
   "metadata": {},
   "source": [
    "`codes` uses `list` to separate the string into a list of characters and map is used to assign a character code to each letter. a `lambda` expression is used in `map` to return a character code for each character in a list."
   ]
  },
  {
   "cell_type": "markdown",
   "metadata": {},
   "source": [
    "##### <span style=\"color:red\">Function Definition:</span>"
   ]
  },
  {
   "cell_type": "code",
   "execution_count": 71,
   "metadata": {
    "collapsed": false
   },
   "outputs": [],
   "source": [
    "def codes(s):\n",
    "    \"\"\"\n",
    "    returns the character code for each character in a string s.\n",
    "    \"\"\"\n",
    "    return list(map(lambda x: ord(x), list(s)))"
   ]
  },
  {
   "cell_type": "markdown",
   "metadata": {},
   "source": [
    "##### <span style=\"color:red\">Tests:</span>"
   ]
  },
  {
   "cell_type": "code",
   "execution_count": 1,
   "metadata": {
    "collapsed": false
   },
   "outputs": [
    {
     "data": {
      "text/plain": [
       "['h', 'e', 'y', 't', 'h', 'e', 'r', 'e']"
      ]
     },
     "execution_count": 1,
     "metadata": {},
     "output_type": "execute_result"
    }
   ],
   "source": [
    "s = \"heythere\"\n",
    "list(s)"
   ]
  },
  {
   "cell_type": "code",
   "execution_count": 72,
   "metadata": {
    "collapsed": false
   },
   "outputs": [
    {
     "data": {
      "text/plain": [
       "[65, 108, 111, 104, 97]"
      ]
     },
     "execution_count": 72,
     "metadata": {},
     "output_type": "execute_result"
    }
   ],
   "source": [
    "codes(\"Aloha\")"
   ]
  },
  {
   "cell_type": "code",
   "execution_count": 30,
   "metadata": {
    "collapsed": true
   },
   "outputs": [],
   "source": [
    "? codes"
   ]
  },
  {
   "cell_type": "markdown",
   "metadata": {},
   "source": [
    "### <span style=\"color:teal\">`vowels`</span>"
   ]
  },
  {
   "cell_type": "markdown",
   "metadata": {},
   "source": [
    "Write a function named `vowels` that will return a string made from the vowels\n",
    "(letters A, E, I, O, and U) in a string:\n",
    "<pre>\n",
    "    >>> vowels('Aloha')\n",
    "    'Aoa'\n",
    "</pre>\n",
    "Note that the vowels are returned in order, and that case is preserved."
   ]
  },
  {
   "cell_type": "markdown",
   "metadata": {},
   "source": [
    "##### <span style=\"color:red\">Description:</span>"
   ]
  },
  {
   "cell_type": "markdown",
   "metadata": {},
   "source": [
    "`vowels` uses a helper function `isvowel` to determine if a character in a broken up string is a vowel or not. If a character is a vowel, that character is returned. `vowels` uses this function to break a string into a list of characters and `map` goes over a list to determine if the character is a vowel and add them to a list. `join` is used to convert the list into a string."
   ]
  },
  {
   "cell_type": "markdown",
   "metadata": {},
   "source": [
    "##### <span style=\"color:red\">Function Definition:</span>"
   ]
  },
  {
   "cell_type": "code",
   "execution_count": 100,
   "metadata": {
    "collapsed": true
   },
   "outputs": [],
   "source": [
    "def isvowel(ch):\n",
    "    \"\"\"\n",
    "    If character is a vowel, character is returned otherwise empty string returned if a consanant. \n",
    "    \"\"\"\n",
    "    if ch in 'AaEeIiOoUu':\n",
    "        return ch\n",
    "    else:\n",
    "        return ''"
   ]
  },
  {
   "cell_type": "code",
   "execution_count": 101,
   "metadata": {
    "collapsed": false
   },
   "outputs": [],
   "source": [
    "def vowels(s):\n",
    "    \"\"\"\n",
    "    uses isvowel to determine if a character is a vowel and return a string of vowels in a word. \n",
    "    \"\"\"\n",
    "    return ''.join(map(lambda x: isvowel(x), list(s)))"
   ]
  },
  {
   "cell_type": "markdown",
   "metadata": {},
   "source": [
    "##### <span style=\"color:red\">Tests:</span>"
   ]
  },
  {
   "cell_type": "code",
   "execution_count": 22,
   "metadata": {
    "collapsed": false
   },
   "outputs": [
    {
     "data": {
      "text/plain": [
       "True"
      ]
     },
     "execution_count": 22,
     "metadata": {},
     "output_type": "execute_result"
    }
   ],
   "source": [
    "isvowel('u')"
   ]
  },
  {
   "cell_type": "code",
   "execution_count": 21,
   "metadata": {
    "collapsed": false
   },
   "outputs": [
    {
     "data": {
      "text/plain": [
       "False"
      ]
     },
     "execution_count": 21,
     "metadata": {},
     "output_type": "execute_result"
    }
   ],
   "source": [
    "isvowel('l')"
   ]
  },
  {
   "cell_type": "code",
   "execution_count": 92,
   "metadata": {
    "collapsed": false
   },
   "outputs": [
    {
     "data": {
      "text/plain": [
       "'Aoa'"
      ]
     },
     "execution_count": 92,
     "metadata": {},
     "output_type": "execute_result"
    }
   ],
   "source": [
    "vowels('Aloha')"
   ]
  },
  {
   "cell_type": "code",
   "execution_count": 99,
   "metadata": {
    "collapsed": false
   },
   "outputs": [
    {
     "data": {
      "text/plain": [
       "'oiie'"
      ]
     },
     "execution_count": 99,
     "metadata": {},
     "output_type": "execute_result"
    }
   ],
   "source": [
    "vowels('Cognitive')"
   ]
  },
  {
   "cell_type": "markdown",
   "metadata": {},
   "source": [
    "### <span style=\"color:teal\">`numbers`</span>"
   ]
  },
  {
   "cell_type": "markdown",
   "metadata": {},
   "source": [
    "Write a function named `numbers` that will use the `tokens` function above to break a line into words and then return the tokens that contain nothing but digits.\n",
    "<pre>\n",
    "    >>> numbers('Want all 5?  Get them now for only $99!')\n",
    "    ['5', '99']\n",
    "</pre>"
   ]
  },
  {
   "cell_type": "markdown",
   "metadata": {},
   "source": [
    "##### <span style=\"color:red\">Description:</span>"
   ]
  },
  {
   "cell_type": "markdown",
   "metadata": {},
   "source": [
    "a helper function isnum determines whether a string is a number or not by using the isdigit() function from string. If the entire string is an integer, that number is returned. numbers then uses this helper function to map over a list broken up with the token function and to determine whether each piece of the string is a number. A list of only the numbers in a string is then returned. "
   ]
  },
  {
   "cell_type": "markdown",
   "metadata": {},
   "source": [
    "##### <span style=\"color:red\">Function Definition:</span>"
   ]
  },
  {
   "cell_type": "code",
   "execution_count": 34,
   "metadata": {
    "collapsed": true
   },
   "outputs": [],
   "source": [
    "def isnum(num):\n",
    "    \"\"\"\n",
    "    determines if a string contains/is numbers.\n",
    "    \"\"\"\n",
    "    if num.isdigit():\n",
    "        return num"
   ]
  },
  {
   "cell_type": "code",
   "execution_count": 35,
   "metadata": {
    "collapsed": false
   },
   "outputs": [],
   "source": [
    "def numbers(n):\n",
    "    \"\"\"\n",
    "    returns only numbers in a string.\n",
    "    \"\"\"\n",
    "    return list(filter(None, map(lambda x: isnum(x), tokens(n))))"
   ]
  },
  {
   "cell_type": "markdown",
   "metadata": {},
   "source": [
    "##### <span style=\"color:red\">Tests:</span>"
   ]
  },
  {
   "cell_type": "code",
   "execution_count": 5,
   "metadata": {
    "collapsed": false
   },
   "outputs": [
    {
     "data": {
      "text/plain": [
       "True"
      ]
     },
     "execution_count": 5,
     "metadata": {},
     "output_type": "execute_result"
    }
   ],
   "source": [
    "isinstance(2, int)"
   ]
  },
  {
   "cell_type": "code",
   "execution_count": 38,
   "metadata": {
    "collapsed": false
   },
   "outputs": [
    {
     "data": {
      "text/plain": [
       "True"
      ]
     },
     "execution_count": 38,
     "metadata": {},
     "output_type": "execute_result"
    }
   ],
   "source": [
    "'2'.isdigit()"
   ]
  },
  {
   "cell_type": "code",
   "execution_count": 33,
   "metadata": {
    "collapsed": false
   },
   "outputs": [
    {
     "data": {
      "text/plain": [
       "['25', '31']"
      ]
     },
     "execution_count": 33,
     "metadata": {},
     "output_type": "execute_result"
    }
   ],
   "source": [
    "numbers('25 days and 31 nights')"
   ]
  },
  {
   "cell_type": "markdown",
   "metadata": {},
   "source": [
    "### <span style=\"color:teal\">`sq_ft`</span>"
   ]
  },
  {
   "cell_type": "markdown",
   "metadata": {},
   "source": [
    "Write a function named `sq_ft` that will compute the total area of a house by adding up the areas of the individual rooms. The argument passed to `sq_ft` will be the name of a file containing the dimensions of the rooms. \n",
    "\n",
    "To test your function you can download a file named `house.txt`. This is the expected result:\n",
    "<pre>\n",
    "    >>> sq_ft('house.txt')\n",
    "    1539.0\n",
    "</pre>\n",
    "\n",
    "The file will have one line per room, where each line has the room name and two numbers representing the width and depth the room, *e.g.*\n",
    "<pre>\n",
    "    kitchen 10 14\n",
    "    laundry 4 5\n",
    "    ...\n",
    "</pre>\n",
    "\n",
    "Suggestion: define a class named Room, and define the constructor so it will initialize an object from a string with the name and dimensions:\n",
    "<pre>\n",
    "    >>> r1 = Room('kitchen 10 14’)\n",
    "</pre>\n",
    "\n",
    "Add a method named `area` that will compute the area of a room:\n",
    "<pre>\n",
    "    >>> r1.area()\n",
    "    140.0\n",
    "</pre>\n",
    "\n",
    "Now your `sq_ft` function can create a Room object from the description of each line in the input file and the `sq_ft` function call `area` on each object."
   ]
  },
  {
   "cell_type": "markdown",
   "metadata": {},
   "source": [
    "##### <span style=\"color:red\">Description:</span>"
   ]
  },
  {
   "cell_type": "markdown",
   "metadata": {},
   "source": [
    "a class Room calculates the area of a room object. sq_foot opens a text file and creates a list of Room objects from each line and appends the areas. When creating the new Room objects from a text file, each line is split into name, length, and width and length and width used in finding the area. The reduce function then adds together all of the areas in the list to find the total square footage of the house."
   ]
  },
  {
   "cell_type": "markdown",
   "metadata": {},
   "source": [
    "##### <span style=\"color:red\">Function Definition:</span>"
   ]
  },
  {
   "cell_type": "code",
   "execution_count": 68,
   "metadata": {
    "collapsed": true
   },
   "outputs": [],
   "source": [
    "from functools import reduce\n",
    "from operator import add"
   ]
  },
  {
   "cell_type": "code",
   "execution_count": 75,
   "metadata": {
    "collapsed": true
   },
   "outputs": [],
   "source": [
    "class Room:\n",
    "    \"\"\"\n",
    "    Creates a room object with name, length, and width.\n",
    "    \"\"\"\n",
    "    def __init__(self, n, w, l):\n",
    "        self._name = n\n",
    "        self._width = w\n",
    "        self._length = l\n",
    "        \n",
    "    def area(self):\n",
    "        \"\"\"\n",
    "        Calculates the area of a room.\n",
    "        \"\"\"\n",
    "        return self._width * self._length\n",
    "    "
   ]
  },
  {
   "cell_type": "code",
   "execution_count": 76,
   "metadata": {
    "collapsed": false
   },
   "outputs": [],
   "source": [
    "def sq_ft(file):\n",
    "    \"\"\"\n",
    "    computes and returns the area of a house by computing and adding together the areas of rooms.\n",
    "    \"\"\"\n",
    "    rooms = []\n",
    "    \n",
    "    for line in open(file):\n",
    "        line = line.split()\n",
    "        rooms.append(Room(line[0], int(line[1]), int(line[2])).area())\n",
    "        \n",
    "    return reduce(add, rooms)"
   ]
  },
  {
   "cell_type": "markdown",
   "metadata": {},
   "source": [
    "##### <span style=\"color:red\">Tests:</span>"
   ]
  },
  {
   "cell_type": "code",
   "execution_count": 72,
   "metadata": {
    "collapsed": false,
    "scrolled": true
   },
   "outputs": [
    {
     "name": "stdout",
     "output_type": "stream",
     "text": [
      "140\n",
      "20\n",
      "96\n",
      "210\n",
      "100\n",
      "81\n",
      "180\n",
      "48\n",
      "64\n",
      "600\n"
     ]
    }
   ],
   "source": [
    "sq_ft('house.txt') # test using print statement printing area of each room."
   ]
  },
  {
   "cell_type": "code",
   "execution_count": 74,
   "metadata": {
    "collapsed": false
   },
   "outputs": [
    {
     "data": {
      "text/plain": [
       "1539"
      ]
     },
     "execution_count": 74,
     "metadata": {},
     "output_type": "execute_result"
    }
   ],
   "source": [
    "sq_ft('house.txt')"
   ]
  },
  {
   "cell_type": "markdown",
   "metadata": {},
   "source": [
    "### <span style=\"color:teal\">Extra Credit: `join`</span>"
   ]
  },
  {
   "cell_type": "markdown",
   "metadata": {},
   "source": [
    "Python's string class has a method named `join` that is the opposite of `split`.  The `split` method breaks a string into a list of substrings, and `join` combines a list of substrings into a longer string.\n",
    "\n",
    "When you call\n",
    "<pre>\n",
    "  s.join(a)\n",
    "</pre>\n",
    "\n",
    "you will get back string made by connecting all the items in a list `a` with the string `s`.\n",
    "\n",
    "Here are a couple of examples:\n",
    "<pre>\n",
    "  >>> a = ['alpha', 'beta', 'gamma', 'delta', 'epsilon']\n",
    "  \n",
    "  >>> '-'.join(a)\n",
    "  'alpha-beta-gamma-delta-epsilon'\n",
    "  \n",
    "  >>> ' / '.join(a)\n",
    "  'alpha / beta / gamma / delta / epsilon'\n",
    "</pre>\n",
    "\n",
    "The list passed to `join` has to be a list of strings.  If you pass a list of numbers an exception occurs:\n",
    "<pre>\n",
    "  >>> n = [541, 346, 8870]\n",
    "  \n",
    "  >>> '-'.join(n)\n",
    "  TypeError: sequence item 0: expected str instance, int found\n",
    "</pre>"
   ]
  },
  {
   "cell_type": "markdown",
   "metadata": {},
   "source": [
    "For this project, write your own version of `join`.  Write a function that takes two arguments, an iterable object and a connecting string, and returns a string made by connecting all the items:\n",
    "<pre>\n",
    ">>> join(a, ', ')\n",
    "'alpha, beta, gamma, delta, epsilon'\n",
    "\n",
    ">>> join(a, ' / ')\n",
    "'alpha / beta / gamma / delta / epsilon'\n",
    "</pre>\n",
    "\n",
    "Your method should handle cases where the first argument has other kinds of objects besides strings:\n",
    "<pre>\n",
    ">>> join(n, '-')\n",
    "'541-346-8870'\n",
    "\n",
    ">>> join(map(lambda n: n % 3 == 0, range(5)), '/')\n",
    "'True/False/False/True/False'\n",
    "</pre>"
   ]
  },
  {
   "cell_type": "markdown",
   "metadata": {},
   "source": [
    "##### <span style=\"color:red\">Description:</span>"
   ]
  },
  {
   "cell_type": "markdown",
   "metadata": {},
   "source": [
    "=== Describe your function in this markdown cell ==="
   ]
  },
  {
   "cell_type": "markdown",
   "metadata": {},
   "source": [
    "##### <span style=\"color:red\">Function Definition:</span>"
   ]
  },
  {
   "cell_type": "code",
   "execution_count": null,
   "metadata": {
    "collapsed": true
   },
   "outputs": [],
   "source": [
    "# Put the definition of your join function in this code cell"
   ]
  },
  {
   "cell_type": "markdown",
   "metadata": {},
   "source": [
    "##### <span style=\"color:red\">Tests:</span>"
   ]
  },
  {
   "cell_type": "code",
   "execution_count": null,
   "metadata": {
    "collapsed": true
   },
   "outputs": [],
   "source": [
    "# Test your function in this code cell"
   ]
  }
 ],
 "metadata": {
  "kernelspec": {
   "display_name": "Python 3",
   "language": "python",
   "name": "python3"
  },
  "language_info": {
   "codemirror_mode": {
    "name": "ipython",
    "version": 3
   },
   "file_extension": ".py",
   "mimetype": "text/x-python",
   "name": "python",
   "nbconvert_exporter": "python",
   "pygments_lexer": "ipython3",
   "version": "3.4.1"
  }
 },
 "nbformat": 4,
 "nbformat_minor": 0
}
