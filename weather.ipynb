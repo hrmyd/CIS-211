{
 "cells": [
  {
   "cell_type": "markdown",
   "metadata": {},
   "source": [
    "##### <span style=\"color:red\">Name:</span>"
   ]
  },
  {
   "cell_type": "markdown",
   "metadata": {},
   "source": [
    "Hiranmayi Duvvuri\n",
    "\n",
    "951198138"
   ]
  },
  {
   "cell_type": "markdown",
   "metadata": {},
   "source": [
    "# <span style=\"color:teal;\">CIS 211 Project 8:  &nbsp; Weather Service</span>"
   ]
  },
  {
   "cell_type": "markdown",
   "metadata": {},
   "source": [
    "##### Due 11:00 P.M. Friday June 5"
   ]
  },
  {
   "cell_type": "markdown",
   "metadata": {},
   "source": [
    "##### Reading:  Perkovic Sec 11.1 -- 11.2"
   ]
  },
  {
   "cell_type": "markdown",
   "metadata": {},
   "source": [
    "The project this week uses \"REST\" style web services to create a weather report. "
   ]
  },
  {
   "cell_type": "markdown",
   "metadata": {},
   "source": [
    "### `weather` "
   ]
  },
  {
   "cell_type": "markdown",
   "metadata": {},
   "source": [
    "Below you will find the defintion of a function named `weather` that prints a weather forecast for a specified location.\n",
    "\n",
    "There are three different ways to call the function.  One is to pass a zip code:\n",
    "<pre>\n",
    "   weather(zip = 97405)\n",
    "</pre>\n",
    "\n",
    "A second way to print a forecast is to pass an address to the function:\n",
    "<pre>\n",
    "   weather(address = '1477 E 13th Ave, Eugene, OR')\n",
    "</pre>\n",
    "\n",
    "The third option is to pass latitude and longitude coordinates:\n",
    "<pre>\n",
    "   weather(lat = 44.0, long = -123.0)\n",
    "</pre>\n",
    "\n",
    "In each case the result will be the same, the current weather forecast for the specified location:\n",
    "<pre>\n",
    "   Showers likely and possibly a thunderstorm.  Cloudy, with a high near 63. Calm wind becoming \n",
    "   west southwest 5 to 7 mph in the afternoon.  Chance of precipitation is 70%. New rainfall \n",
    "   amounts between a tenth and quarter of an inch, except higher amounts possible in thunderstorms. \n",
    "</pre>\n",
    "\n",
    "**Note:** The lecture notes for this week will explain how to write a function definition that allows users to call the function using keywords and values.\n",
    "\n",
    "You have three jobs this week:\n",
    "1. Write a helper function called `get_forecast` that will use a web service provided by NOAA to fetch the current weather forecast for a specified location.  \n",
    "1. Since the NOAA service only works if you pass it a latitude and longitude, you need to write a second helper function, called `get_coords`, will look up a latitude and longitude given a zip code or address.\n",
    "1. You need to test the top level `weather` function and explain how it handles errors."
   ]
  },
  {
   "cell_type": "markdown",
   "metadata": {},
   "source": [
    "### NOAA API "
   ]
  },
  {
   "cell_type": "markdown",
   "metadata": {},
   "source": [
    "A template for the URL for a web service provided by NOAA is\n",
    "<pre>\n",
    "http://forecast.weather.gov/MapClick.php?lat={}&lon={}&FcstType=json\n",
    "</pre>\n",
    "When numbers specifying latitude and longitude are substituted into this template the URL will return a JSON string with a complete forecst for that location.\n",
    "\n",
    "For example, this shell command will fetch a weather report for Eugene:\n",
    "<pre>\n",
    "   % curl 'http://forecast.weather.gov/MapClick.php?lat=44.0&lon=-123.0&FcstType=json'\n",
    "</pre>\n",
    "\n",
    "When the result is translated as a JSON object you will get a Python dictionary.  One of the items in the dictionary is called `data`, which is itself a dictionary.  Inside that dictionary is an item called `text`, which is a list of strings.  The weather prediction you want is the first string in that list.\n",
    "\n",
    "For example, if you save the result of the call to `json.loads` in a dictionary named `forecast`, this expression will get the string containing the prediction for the next few hours:\n",
    "<pre>\n",
    "forecast['data']['text'][0]\n",
    "</pre>"
   ]
  },
  {
   "cell_type": "markdown",
   "metadata": {},
   "source": [
    "### Geocoder API "
   ]
  },
  {
   "cell_type": "markdown",
   "metadata": {},
   "source": [
    "The NOAA service expects a location to be specified by its geographic coordinates (latitude and longitude).  If `weather` is called with a zip code or address we can use a service called a \"geocoder\" to look up the latitude and longitude.\n",
    "\n",
    "There are two APIs for this service.  Use the first one if you have a zip code, use the second if you have an address:\n",
    "<pre>\n",
    "'http://geocoder.us/service/json?zip={}'\n",
    "'http://geocoder.us/service/json?address={}&parse_address=1'\n",
    "</pre>\n",
    "\n",
    "For example, both of these shell commands return a JSON string containing the coordinates of the CS department:\n",
    "<pre>\n",
    "   % curl 'http://geocoder.us/service/json?zip=97403'\n",
    "   % curl 'http://geocoder.us/service/json?address=1477+E.+13th+Ave.+Eugene,+OR&parse+address=1'\n",
    "</pre>\n",
    "\n",
    "When this JSON string is converted into a Python object you will get a list (some calls may specifiy ambiguous addresses or multiple zip codes).  You can assume the first item is the one you want.  This item will be a dictionary, and the coordinates are in the `lat` and `long` components of this dictionary.  \n",
    "\n",
    "For example, if the result of the call to `json.loads` is saved in a list called `coords`, these expressions will look up the latitude and longitude of the specified location:\n",
    "<pre>\n",
    "coords[0]['lat']\n",
    "coords[0]['long']\n",
    "</pre>"
   ]
  },
  {
   "cell_type": "markdown",
   "metadata": {},
   "source": [
    "### Top Level Function "
   ]
  },
  {
   "cell_type": "markdown",
   "metadata": {},
   "source": [
    "The following code cell contains the `import` statements for the Python libraries needed by this project and the definition of the top level `weather` function."
   ]
  },
  {
   "cell_type": "code",
   "execution_count": 191,
   "metadata": {
    "collapsed": true
   },
   "outputs": [],
   "source": [
    "from urllib.request import urlopen\n",
    "from urllib.error import HTTPError\n",
    "from sys import argv\n",
    "import json\n",
    "\n",
    "def weather(**spec):\n",
    "    try:\n",
    "        if 'zipcode' in spec or 'address' in spec:\n",
    "            lat, long = get_coords(**spec)\n",
    "        elif not ('lat' in spec and 'long' in spec):\n",
    "            raise Exception('specify zip, address, or latitude and longitude')\n",
    "        else:\n",
    "            lat, long = spec['lat'], spec['long']\n",
    "        print(get_forecast(lat, long))\n",
    "    except HTTPError:\n",
    "        print('Incomplete or incorrect specification', spec)\n",
    "    except Exception as err:\n",
    "        print(err)"
   ]
  },
  {
   "cell_type": "markdown",
   "metadata": {},
   "source": [
    "### Project 1:   `get_forecast` "
   ]
  },
  {
   "cell_type": "markdown",
   "metadata": {},
   "source": [
    "Write the function definition for the `get_forecast` helper function.  The funtion should take two integer arguments, the latitude and longitude, and return a single string, the weather forecast for that location."
   ]
  },
  {
   "cell_type": "markdown",
   "metadata": {},
   "source": [
    "##### <span style=\"color:red\">Description:</span>"
   ]
  },
  {
   "cell_type": "markdown",
   "metadata": {},
   "source": [
    "Formats the URL to put in the latitude and logitude given and urlopen accesses the webpage to get the weather and location data for the area. The data is fed to `json.loads` and converted to a usable dictionary in order to print only the forecast text from the data key."
   ]
  },
  {
   "cell_type": "markdown",
   "metadata": {},
   "source": [
    "##### <span style=\"color:red\">Program:</span>"
   ]
  },
  {
   "cell_type": "code",
   "execution_count": 159,
   "metadata": {
    "collapsed": false
   },
   "outputs": [],
   "source": [
    "def get_forecast(lat, long):\n",
    "    \"\"\"\n",
    "    gets the forecast given the latitude and logitude of an area.\n",
    "    \"\"\"\n",
    "    wurl = 'http://forecast.weather.gov/MapClick.php?lat={}&lon={}&FcstType=json'.format(lat, long)\n",
    "    weather = urlopen(wurl)\n",
    "    wjson = weather.read().decode()\n",
    "    forecast = json.loads(wjson)\n",
    "    print(forecast['data']['text'][0])"
   ]
  },
  {
   "cell_type": "markdown",
   "metadata": {},
   "source": [
    "##### <span style=\"color:red\">Tests:</span>"
   ]
  },
  {
   "cell_type": "code",
   "execution_count": 195,
   "metadata": {
    "collapsed": false
   },
   "outputs": [
    {
     "name": "stdout",
     "output_type": "stream",
     "text": [
      "Clear, with a low around 55. North northwest wind 5 to 9 mph becoming light northwest  after midnight. \n"
     ]
    }
   ],
   "source": [
    "get_forecast(44.0, -123.0)"
   ]
  },
  {
   "cell_type": "code",
   "execution_count": null,
   "metadata": {
    "collapsed": false
   },
   "outputs": [],
   "source": [
    "\"\"\"\n",
    "This cell shows the code during the debugging/testing process of the function, mostly using print statements to make sure\n",
    "each part of the code works.\n",
    "\"\"\"\n",
    "    wurl = 'http://forecast.weather.gov/MapClick.php?lat={}&lon={}&FcstType=json'.format(lat, long)\n",
    "    #print(wurl)\n",
    "    weather = urlopen(wurl)\n",
    "    #print(weather)\n",
    "    wjson = weather.read().decode()\n",
    "    #print(wjson)\n",
    "    forecast = json.loads(wjson)\n",
    "    #print(forecast)\n",
    "    #print(type(forecast))\n",
    "    print(forecast['data']['text'][0])"
   ]
  },
  {
   "cell_type": "markdown",
   "metadata": {},
   "source": [
    "### Project 2:  `get_location` "
   ]
  },
  {
   "cell_type": "markdown",
   "metadata": {},
   "source": [
    "Write the function definition for the `get_location` helper function.  This function should allow users to either pass a zip code or an address, and the return value should be a pair of numbers corresponding to the latitude and longitude of the specified location.\n",
    "\n",
    "**Note** This week's lecture notes will explain how to write a function that can be passed keyword arguments.  The top level `weather` function is an example -- this function can be passed arguments named `zip`, `address`, or `lat` and `lon`.\n"
   ]
  },
  {
   "cell_type": "markdown",
   "metadata": {},
   "source": [
    "##### <span style=\"color:red\">Description:</span>"
   ]
  },
  {
   "cell_type": "markdown",
   "metadata": {},
   "source": [
    "Formats the URL based on if the keyword argument is the zipcode or the address for the location given and then urlopen accesses the webpage to get the location information. The data is fed to `json.loads` and converted to a usable dictionary in order to return the latitude and longitude of the area."
   ]
  },
  {
   "cell_type": "markdown",
   "metadata": {},
   "source": [
    "##### <span style=\"color:red\">Program:</span>"
   ]
  },
  {
   "cell_type": "code",
   "execution_count": 224,
   "metadata": {
    "collapsed": false
   },
   "outputs": [],
   "source": [
    "def get_coords(**loc):\n",
    "    \"\"\"\n",
    "    takes a zipcode or address and returns the latitude and longitude for that location.\n",
    "    \"\"\"\n",
    "    if 'zipcode' in loc:\n",
    "        url = 'http://geocoder.us/service/json?zip={}'.format(loc['zipcode'])\n",
    "        \n",
    "    elif 'address' in loc:\n",
    "        addr = loc['address'].replace(' ', '+')\n",
    "        url = 'http://geocoder.us/service/json?address={}&parse_address=1'.format(addr)\n",
    "        \n",
    "    content = urlopen(url).read().decode()\n",
    "    coords = json.loads(content)\n",
    "    return coords[0]['lat'], coords[0]['long']"
   ]
  },
  {
   "cell_type": "markdown",
   "metadata": {},
   "source": [
    "##### <span style=\"color:red\">Tests:</span>"
   ]
  },
  {
   "cell_type": "code",
   "execution_count": 222,
   "metadata": {
    "collapsed": false
   },
   "outputs": [
    {
     "data": {
      "text/plain": [
       "('44.004396', '-123.12203')"
      ]
     },
     "execution_count": 222,
     "metadata": {},
     "output_type": "execute_result"
    }
   ],
   "source": [
    "get_coords(zipcode = 97405)"
   ]
  },
  {
   "cell_type": "code",
   "execution_count": 218,
   "metadata": {
    "collapsed": false
   },
   "outputs": [
    {
     "data": {
      "text/plain": [
       "('45.506940', '-122.718808')"
      ]
     },
     "execution_count": 218,
     "metadata": {},
     "output_type": "execute_result"
    }
   ],
   "source": [
    "get_coords(address = '4001 SW Canyon Rd, Portland, OR')"
   ]
  },
  {
   "cell_type": "code",
   "execution_count": null,
   "metadata": {
    "collapsed": true
   },
   "outputs": [],
   "source": [
    "\"\"\"\n",
    "Cell shows debugging/testing using print statements. \n",
    "\"\"\"\n",
    "    if 'zipcode' in loc:\n",
    "        url = 'http://geocoder.us/service/json?zip={}'.format(loc['zipcode'])\n",
    "        print(loc)\n",
    "        print(url)\n",
    "        #urlopen(url)\n",
    "        \n",
    "    elif 'address' in loc:\n",
    "        addr = loc['address'].replace(' ', '+')\n",
    "        print(addr)\n",
    "        url = 'http://geocoder.us/service/json?address={}&parse_address=1'.format(addr)\n",
    "        print(url)\n",
    "        \n",
    "    content = urlopen(url).read().decode()\n",
    "    coords = json.loads(content)\n",
    "    print(coords[0]['lat'], coords[0]['long'])"
   ]
  },
  {
   "cell_type": "markdown",
   "metadata": {},
   "source": [
    "### Project 3:  Test the `weather` Function "
   ]
  },
  {
   "cell_type": "markdown",
   "metadata": {},
   "source": [
    "In the space below use one or more code cells to make calls to `weather`.  Note that if you pass `lat` and `long` as arguments you can call `weather` even if you have not yet implemented the `get_location` helper.\n",
    "\n",
    "Your tests should call `weather` with zip codes, addresses, and latitude/longitude.\n",
    "\n",
    "After the code cells, write a brief description of how the function handles errors.  What happens if you pass an illegal or unknown zip code?  If you don't pass any valid arguments?"
   ]
  },
  {
   "cell_type": "code",
   "execution_count": 223,
   "metadata": {
    "collapsed": false
   },
   "outputs": [
    {
     "name": "stdout",
     "output_type": "stream",
     "text": [
      "Clear, with a low around 55. North northwest wind 6 to 11 mph. \n",
      "None\n"
     ]
    }
   ],
   "source": [
    "weather(zipcode = 97405)"
   ]
  },
  {
   "cell_type": "code",
   "execution_count": 199,
   "metadata": {
    "collapsed": false
   },
   "outputs": [
    {
     "name": "stdout",
     "output_type": "stream",
     "text": [
      "Clear, with a low around 57. Northwest wind 5 to 10 mph. \n",
      "None\n"
     ]
    }
   ],
   "source": [
    "weather(zipcode = 97123)"
   ]
  },
  {
   "cell_type": "code",
   "execution_count": 194,
   "metadata": {
    "collapsed": false
   },
   "outputs": [
    {
     "name": "stdout",
     "output_type": "stream",
     "text": [
      "Clear, with a low around 57. North wind 5 to 11 mph. \n",
      "None\n"
     ]
    }
   ],
   "source": [
    "weather(address = '1477 E 13th Ave, Eugene, OR')"
   ]
  },
  {
   "cell_type": "code",
   "execution_count": 203,
   "metadata": {
    "collapsed": false
   },
   "outputs": [
    {
     "name": "stdout",
     "output_type": "stream",
     "text": [
      "Clear, with a low around 57. North northwest wind 6 to 11 mph. \n",
      "None\n"
     ]
    }
   ],
   "source": [
    "weather(address = '4001 SW Canyon Rd, Portland, OR')"
   ]
  },
  {
   "cell_type": "code",
   "execution_count": 196,
   "metadata": {
    "collapsed": false
   },
   "outputs": [
    {
     "name": "stdout",
     "output_type": "stream",
     "text": [
      "Clear, with a low around 55. North northwest wind 5 to 9 mph becoming light northwest  after midnight. \n",
      "None\n"
     ]
    }
   ],
   "source": [
    "weather(lat = 44.0, long = -123.0)"
   ]
  },
  {
   "cell_type": "code",
   "execution_count": 208,
   "metadata": {
    "collapsed": false
   },
   "outputs": [
    {
     "ename": "NameError",
     "evalue": "name 'hey' is not defined",
     "output_type": "error",
     "traceback": [
      "\u001b[1;31m---------------------------------------------------------------------------\u001b[0m",
      "\u001b[1;31mNameError\u001b[0m                                 Traceback (most recent call last)",
      "\u001b[1;32m<ipython-input-208-9b1c961d4cb7>\u001b[0m in \u001b[0;36m<module>\u001b[1;34m()\u001b[0m\n\u001b[1;32m----> 1\u001b[1;33m \u001b[0mweather\u001b[0m\u001b[1;33m(\u001b[0m\u001b[0mlat\u001b[0m \u001b[1;33m=\u001b[0m \u001b[0mhey\u001b[0m\u001b[1;33m,\u001b[0m \u001b[0mlong\u001b[0m \u001b[1;33m=\u001b[0m \u001b[0mgo\u001b[0m\u001b[1;33m)\u001b[0m\u001b[1;33m\u001b[0m\u001b[0m\n\u001b[0m",
      "\u001b[1;31mNameError\u001b[0m: name 'hey' is not defined"
     ]
    }
   ],
   "source": [
    "weather(lat = hey, long = go)"
   ]
  },
  {
   "cell_type": "code",
   "execution_count": 211,
   "metadata": {
    "collapsed": false
   },
   "outputs": [
    {
     "name": "stdout",
     "output_type": "stream",
     "text": [
      "specify zip, address, or latitude and longitude\n"
     ]
    }
   ],
   "source": [
    "weather(loc = 4)"
   ]
  }
 ],
 "metadata": {
  "kernelspec": {
   "display_name": "Python 3",
   "language": "python",
   "name": "python3"
  },
  "language_info": {
   "codemirror_mode": {
    "name": "ipython",
    "version": 3
   },
   "file_extension": ".py",
   "mimetype": "text/x-python",
   "name": "python",
   "nbconvert_exporter": "python",
   "pygments_lexer": "ipython3",
   "version": "3.4.1"
  }
 },
 "nbformat": 4,
 "nbformat_minor": 0
}
