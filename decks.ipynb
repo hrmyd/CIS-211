{
 "cells": [
  {
   "cell_type": "markdown",
   "metadata": {},
   "source": [
    "# <span style=\"color:teal;\">CIS 211 Project 3:  Deck Class</span>"
   ]
  },
  {
   "cell_type": "markdown",
   "metadata": {},
   "source": [
    "##### Due 11:00 P.M. Tuesday April 21"
   ]
  },
  {
   "cell_type": "markdown",
   "metadata": {},
   "source": [
    "##### Reading:  Perkovic Sec 6.4--6.5 and 8.1--8.5"
   ]
  },
  {
   "cell_type": "markdown",
   "metadata": {},
   "source": [
    "### <span style=\"color:teal\">Setup</span>"
   ]
  },
  {
   "cell_type": "markdown",
   "metadata": {},
   "source": [
    "The project for this week looks at how to write classes that extend Python's builtin classes.  You will write the definition of a class named Deck that is a list of Card objects.\n",
    "\n",
    "As you work on the project you will need to make Card objects, which means you have to execute an `import` statement that defines the Card class so it can be used by the code in this notebook.\n",
    "\n",
    "There are two ways to create the file that contains the Card class:\n",
    "* run the notebook converter to export the code from the notebook you wrote for last week's class, and copy the exported Python code to the directory for this notebook\n",
    "* download a file named `Card.pyc` from Canvas and save the file in the same directory as this notebook\n",
    "\n",
    "The `Card.pyc` file will work on any operating system, but it assumes you have Python 3.4.\n",
    "\n",
    "After you have copied your Card class to the folder for this project execute this code cell:"
   ]
  },
  {
   "cell_type": "code",
   "execution_count": null,
   "metadata": {
    "collapsed": false
   },
   "outputs": [],
   "source": [
    "from Card import *"
   ]
  },
  {
   "cell_type": "markdown",
   "metadata": {},
   "source": [
    "If the class is imported properly this expression should print a Card object:"
   ]
  },
  {
   "cell_type": "code",
   "execution_count": null,
   "metadata": {
    "collapsed": false
   },
   "outputs": [],
   "source": [
    "Card(0)"
   ]
  },
  {
   "cell_type": "markdown",
   "metadata": {},
   "source": [
    "###  <span style=\"color:teal\">1. &nbsp; Deck Class</span>"
   ]
  },
  {
   "cell_type": "markdown",
   "metadata": {},
   "source": [
    "Write the definition of a new class named Deck, where each instance of the class will be a list of 52 Card objects. When the constructor is called it should return a list of all 52 cards in order from 2♣ up through A♠.\n",
    "\n",
    "** Your class should be derived from Python's `list` class**.  See the lecture notes on the difference between \"is-a\" and \"has-a\".  Don't define a class that *has a list* as an attribute, define a class that *is a kind of list*.\n",
    "\n",
    "Define three methods for your class:\n",
    "* `shuffle()` should rearrange the cards into a new random permutation (you can use a function named `shuffle` defined in Python's `random` library; see p. 197 in the textbook for an example).\n",
    "* `deal(n)` should remove the first `n` cards from the deck and return them in a list\n",
    "* `restore(a)` should add the cards in list `a` to the end of the deck\n",
    "\n",
    "Here are some examples:\n",
    "<pre>\n",
    ">>> d = Deck()\n",
    ">>> len(d) \n",
    "52\n",
    "\n",
    ">>> d\n",
    "[2♣, 3♣, 4♣, ... Q♠, K♠, A♠]\n",
    "\n",
    ">>> d.shuffle()\n",
    ">>> d\n",
    "[Q♣, A♦, 7♦, 9♦, 8♦, 3♠, 8♠, ... 5♣, 9♣, K♦]\n",
    "\n",
    ">>> h = d.deal(5) \n",
    ">>> h\n",
    "[Q♣, A♦, 7♦, 9♦, 8♦]\n",
    "\n",
    ">>> d\n",
    "[3♠, 8♠, ... 5♣, 9♣, K♦]\n",
    "\n",
    ">>> len(d) \n",
    "47\n",
    "\n",
    ">>> d.restore(h)\n",
    ">>> d\n",
    "[3♠, 8♠, ... 9♣, K♦, Q♣, A♦, 7♦, 9♦, 8♦]\n",
    "\n",
    ">>> len(d)\n",
    "52\n",
    "\n",
    ">>> d.sort()\n",
    ">>> d\n",
    "[2♣, 3♣, 4♣, ... Q♠, K♠, A♠]\n",
    "</pre>"
   ]
  },
  {
   "cell_type": "markdown",
   "metadata": {},
   "source": [
    "<span style=\"color:blue\">Note:</span> &nbsp; Make sure you understand why the last expression above worked. Why are you able to sort a deck of cards even though you did not define a sort method in your class?"
   ]
  },
  {
   "cell_type": "markdown",
   "metadata": {},
   "source": [
    "##### <span style=\"color:red\">Documentation:</span>"
   ]
  },
  {
   "cell_type": "markdown",
   "metadata": {},
   "source": [
    "Deck returns a list of card objects with the extend function and list comprehension. Shuffle, Deal, and Restore functions each act upon self, the list of cards. Deal uses pop(0) as when using pop(x), the change in index when each element is removed makes it so only even id's are taken."
   ]
  },
  {
   "cell_type": "markdown",
   "metadata": {},
   "source": [
    "##### <span style=\"color:red\">Code:</span>"
   ]
  },
  {
   "cell_type": "code",
   "execution_count": null,
   "metadata": {
    "collapsed": false
   },
   "outputs": [],
   "source": [
    "import random\n",
    "\n",
    "class Deck(list):\n",
    "    \"\"\"\n",
    "    returns a list of Card objects.\n",
    "    \"\"\"\n",
    "    \n",
    "    def __init__(self):\n",
    "        \"\"\"\n",
    "        creates the list of card objects.\n",
    "        \"\"\"\n",
    "        list.__init__(self)\n",
    "        self.extend([Card(i) for i in range(52)])\n",
    "        \n",
    "    def shuffle(self):\n",
    "        \"\"\"\n",
    "        returns a shuffled Deck of Card objects.\n",
    "        \"\"\"\n",
    "        return random.shuffle(self)\n",
    "        \n",
    "    def deal(self, num):\n",
    "        \"\"\"\n",
    "        removes first x cards from deck and returns as a new list. \n",
    "        \"\"\"\n",
    "        return [self.pop(0) for x in range(num)]\n",
    "        \n",
    "    def restore(self, add):\n",
    "        \"\"\"\n",
    "        returns a list of Card objects with the new list of removed cards appended on.\n",
    "        \"\"\"\n",
    "\n",
    "        self.extend(add) if len(self) < 52 else None  # only restores deck if less than a full deck."
   ]
  },
  {
   "cell_type": "markdown",
   "metadata": {},
   "source": [
    "##### <span style=\"color:red\">Tests:</span>"
   ]
  },
  {
   "cell_type": "code",
   "execution_count": null,
   "metadata": {
    "collapsed": false
   },
   "outputs": [],
   "source": [
    "%pprint"
   ]
  },
  {
   "cell_type": "code",
   "execution_count": null,
   "metadata": {
    "collapsed": false,
    "scrolled": true
   },
   "outputs": [],
   "source": [
    "d = Deck()"
   ]
  },
  {
   "cell_type": "code",
   "execution_count": null,
   "metadata": {
    "collapsed": false
   },
   "outputs": [],
   "source": [
    "d"
   ]
  },
  {
   "cell_type": "code",
   "execution_count": null,
   "metadata": {
    "collapsed": false
   },
   "outputs": [],
   "source": [
    "len(d)"
   ]
  },
  {
   "cell_type": "code",
   "execution_count": null,
   "metadata": {
    "collapsed": false
   },
   "outputs": [],
   "source": [
    "d.shuffle()"
   ]
  },
  {
   "cell_type": "code",
   "execution_count": null,
   "metadata": {
    "collapsed": false
   },
   "outputs": [],
   "source": [
    "h = d.deal(6)"
   ]
  },
  {
   "cell_type": "code",
   "execution_count": null,
   "metadata": {
    "collapsed": false
   },
   "outputs": [],
   "source": [
    "h"
   ]
  },
  {
   "cell_type": "code",
   "execution_count": null,
   "metadata": {
    "collapsed": false
   },
   "outputs": [],
   "source": [
    "len(d)"
   ]
  },
  {
   "cell_type": "code",
   "execution_count": null,
   "metadata": {
    "collapsed": false
   },
   "outputs": [],
   "source": [
    "d.restore(h)"
   ]
  },
  {
   "cell_type": "code",
   "execution_count": null,
   "metadata": {
    "collapsed": false
   },
   "outputs": [],
   "source": [
    "d"
   ]
  },
  {
   "cell_type": "code",
   "execution_count": null,
   "metadata": {
    "collapsed": false
   },
   "outputs": [],
   "source": [
    "len(d)"
   ]
  },
  {
   "cell_type": "markdown",
   "metadata": {},
   "source": [
    "###  <span style=\"color:teal\">2. &nbsp; PinochleDeck Class</span>"
   ]
  },
  {
   "cell_type": "markdown",
   "metadata": {},
   "source": [
    "Define a new class named PinochleDeck that has Deck as its base class. The game of Pinochle (pronounced \"pea knuckle\") uses only 9s and above, and there are two copies of each card. That means a Pinochle deck has 48 cards in all.  A new instance of your PinochleDeck class should be a sorted list of the 48 cards used in Pinochle. \n",
    "\n",
    "<pre>\n",
    ">>> d = PinochleDeck()\n",
    ">>> d\n",
    "[9♣, 9♣, 10♣, 10♣, ... Q♠, Q♠, K♠, K♠, A♠, A♠]\n",
    "\n",
    ">>> d.shuffle()\n",
    ">>> h = d.deal(12)\n",
    "\n",
    ">>> h.sort()\n",
    ">>> h\n",
    "[A♣, 9♦, 10♦, J♦, J♦, 9♥, A♥, A♥, 9♠, 10♠, K♠, A♠]\n",
    "</pre>"
   ]
  },
  {
   "cell_type": "markdown",
   "metadata": {},
   "source": [
    "The last example above uses the default sort order for Card objects, so the hand is sorted by suit, with clubs first, then diamonds, then hearts, and finally spades."
   ]
  },
  {
   "cell_type": "markdown",
   "metadata": {},
   "source": [
    "##### <span style=\"color:red\">Documentation:</span>"
   ]
  },
  {
   "cell_type": "markdown",
   "metadata": {},
   "source": [
    "Inherits Deck class with Card objects also being added with list comprehension and a conditional expression to make sure that all cards in the deck have a rank of 9 or higher. chain.from_iterable combines the doubles of each card so that they are all one list instead of 28 lists of doubled cards."
   ]
  },
  {
   "cell_type": "markdown",
   "metadata": {},
   "source": [
    "##### <span style=\"color:red\">Code:</span>"
   ]
  },
  {
   "cell_type": "code",
   "execution_count": null,
   "metadata": {
    "collapsed": false
   },
   "outputs": [],
   "source": [
    "import itertools\n",
    "\n",
    "class PinochleDeck(Deck):\n",
    "    \"\"\"\n",
    "    Returns a list of two copies of card objects with rank 9 or higher.\n",
    "    \"\"\"\n",
    "    \n",
    "    def __init__(self):\n",
    "        self.extend(itertools.chain.from_iterable([Card(i)] * 2 for i in range(52) if Card(i).rank() > 6))"
   ]
  },
  {
   "cell_type": "markdown",
   "metadata": {},
   "source": [
    "##### <span style=\"color:red\">Tests:</span>"
   ]
  },
  {
   "cell_type": "code",
   "execution_count": null,
   "metadata": {
    "collapsed": false
   },
   "outputs": [],
   "source": [
    "p = PinochleDeck()"
   ]
  },
  {
   "cell_type": "code",
   "execution_count": null,
   "metadata": {
    "collapsed": false,
    "scrolled": true
   },
   "outputs": [],
   "source": [
    "p"
   ]
  },
  {
   "cell_type": "code",
   "execution_count": null,
   "metadata": {
    "collapsed": false
   },
   "outputs": [],
   "source": [
    "m = p.deal(5)"
   ]
  },
  {
   "cell_type": "code",
   "execution_count": null,
   "metadata": {
    "collapsed": false
   },
   "outputs": [],
   "source": [
    "m"
   ]
  },
  {
   "cell_type": "code",
   "execution_count": null,
   "metadata": {
    "collapsed": false
   },
   "outputs": [],
   "source": [
    "len(p)"
   ]
  },
  {
   "cell_type": "code",
   "execution_count": null,
   "metadata": {
    "collapsed": false
   },
   "outputs": [],
   "source": [
    "p.restore(m)"
   ]
  },
  {
   "cell_type": "code",
   "execution_count": null,
   "metadata": {
    "collapsed": false
   },
   "outputs": [],
   "source": [
    "p"
   ]
  },
  {
   "cell_type": "code",
   "execution_count": null,
   "metadata": {
    "collapsed": false
   },
   "outputs": [],
   "source": [
    "len(p)"
   ]
  },
  {
   "cell_type": "markdown",
   "metadata": {
    "collapsed": true
   },
   "source": [
    "### <span style=\"color:teal\">Extra Credit Ideas</span>"
   ]
  },
  {
   "cell_type": "markdown",
   "metadata": {},
   "source": [
    "If you want to earn extra credit points for this project try one of the extensions listed below (or feel free to invent other ways to extend the project).\n",
    "\n",
    "<span style=\"color:red; font-weight:bold;\">Important:</span>  To earn extra credit points make sure you fill in the following markup cell to explain what you did so the graders will look for your extensions when they grade your project:"
   ]
  },
  {
   "cell_type": "markdown",
   "metadata": {},
   "source": [
    "=== Describe any extra credit here ==="
   ]
  },
  {
   "cell_type": "markdown",
   "metadata": {},
   "source": [
    "#####  Check for Invalid Methods"
   ]
  },
  {
   "cell_type": "markdown",
   "metadata": {},
   "source": [
    "Since the Deck class is a subclass of Python’s list class users can do anything to a Deck that they can do to a list, including some things they shouldn’t. For example, it’s easy to attach a string to the end of a deck of cards:\n",
    "<pre>\n",
    ">>> d\n",
    "[2♣, 3♣, 4♣, ... Q♠, K♠, A♠]\n",
    "\n",
    ">>> d.append('howdy')\n",
    ">>> len(d)\n",
    "53\n",
    "\n",
    ">>> d.shuffle()\n",
    ">>> d\n",
    "[5♣, 'howdy', 2♣, J♠, ... 8♥, J♣, Q♦]\n",
    "</pre>\n",
    "\n",
    "A function like `total` that expects a list of Card objects isn’t going to like that.\n",
    "Figure out what sorts of things you don’t want to happen with decks of cards and add code to your class definition that raises an error message when the method is invoked."
   ]
  },
  {
   "cell_type": "markdown",
   "metadata": {},
   "source": [
    "##### Check for Valid Cards"
   ]
  },
  {
   "cell_type": "markdown",
   "metadata": {},
   "source": [
    "Have the `restore` method check to make sure items being put back in the deck are Card objects.  Don't forget that BlackjackCard objects are a valid type of Card."
   ]
  },
  {
   "cell_type": "markdown",
   "metadata": {},
   "source": [
    "##### Permutation"
   ]
  },
  {
   "cell_type": "markdown",
   "metadata": {},
   "source": [
    "Write your own version of a function that makes a random permutation of a list and use it instead of random.shuffle (send e-mail to `conery@uoregon.edu` if you want some pointers to algorithms that make random permutations)."
   ]
  },
  {
   "cell_type": "markdown",
   "metadata": {},
   "source": [
    "##### Deal Multiple Hands"
   ]
  },
  {
   "cell_type": "markdown",
   "metadata": {},
   "source": [
    "Add a second argument to the `deal` method that specifies the number of hands to deal.  If the argument is not passed deal one hand.  If it is a number return a list of that many hands.  For example, `deal(5)` will return a list of 5 cards, as usual, but `deal(5,2)` will return 2 hands with 5 cards each."
   ]
  }
 ],
 "metadata": {
  "kernelspec": {
   "display_name": "Python 3",
   "language": "python",
   "name": "python3"
  },
  "language_info": {
   "codemirror_mode": {
    "name": "ipython",
    "version": 3
   },
   "file_extension": ".py",
   "mimetype": "text/x-python",
   "name": "python",
   "nbconvert_exporter": "python",
   "pygments_lexer": "ipython3",
   "version": "3.4.1"
  }
 },
 "nbformat": 4,
 "nbformat_minor": 0
}
