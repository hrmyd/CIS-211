{
 "cells": [
  {
   "cell_type": "markdown",
   "metadata": {},
   "source": [
    "##### <span style=\"color:red\">Name:</span>"
   ]
  },
  {
   "cell_type": "markdown",
   "metadata": {},
   "source": [
    "Hiranmayi Duvvuri\n",
    "hduvvuri"
   ]
  },
  {
   "cell_type": "markdown",
   "metadata": {},
   "source": [
    "# <span style=\"color:teal;\">CIS 211 Project 5:  Blackjack</span>"
   ]
  },
  {
   "cell_type": "markdown",
   "metadata": {},
   "source": [
    "##### Due 11:00 P.M. Tuesday May 5"
   ]
  },
  {
   "cell_type": "markdown",
   "metadata": {},
   "source": [
    "##### Reading:  Perkovic Ch 9 (plus a program in Sec 6.5)"
   ]
  },
  {
   "cell_type": "markdown",
   "metadata": {},
   "source": [
    "This week's project is to write a Python program that plays Blackjack.  The program will have a GUI implemented with Tk."
   ]
  },
  {
   "cell_type": "markdown",
   "metadata": {},
   "source": [
    "For this week's project there is just one markdown cell to fill in for documentation.  Use the markdown cell to explain what you did to create your GUI, how you tested your program, and anything that is interesting about your project."
   ]
  },
  {
   "cell_type": "markdown",
   "metadata": {},
   "source": [
    "### <span style=\"color:teal\">Setup</span>"
   ]
  },
  {
   "cell_type": "markdown",
   "metadata": {},
   "source": [
    "Make sure you have the following files in your project directory:\n",
    "* the Card class from Project 2 (either copy your own Card.py class, or download `Card.pyc` from Canvas)\n",
    "* the Deck class from Project 3 (your own, or download `Deck.pyc` from Canvas)\n",
    "* the CardLabel class and cardimages folder, download from Canvas"
   ]
  },
  {
   "cell_type": "markdown",
   "metadata": {},
   "source": [
    "To test a GUI program from an IPython Notebook execute the following code cell each time you open this notebook or reset the kernel:"
   ]
  },
  {
   "cell_type": "code",
   "execution_count": 1,
   "metadata": {
    "collapsed": false
   },
   "outputs": [],
   "source": [
    "%gui tk\n",
    "\n",
    "from tkinter import *\n",
    "from tkinter.messagebox import *"
   ]
  },
  {
   "cell_type": "markdown",
   "metadata": {},
   "source": [
    "If you are going to use IPython, use this statement to import the CardLabel class:"
   ]
  },
  {
   "cell_type": "code",
   "execution_count": 2,
   "metadata": {
    "collapsed": true
   },
   "outputs": [],
   "source": [
    "from CardLabel import CardTextLabel as CardLabel\n",
    "from Card import *\n",
    "from Deck import *\n",
    "from random import shuffle"
   ]
  },
  {
   "cell_type": "markdown",
   "metadata": {},
   "source": [
    "### <span style=\"color:teal\">Programming Project</span>"
   ]
  },
  {
   "cell_type": "markdown",
   "metadata": {},
   "source": [
    "Write a program that will play a game of Blackjack. \n",
    "\n",
    "The top level window in the GUI for the program should have room for two rows of cards, with six cards in each row. Below the cards display three buttons, named “deal”, “hit”, and “stand”.\n",
    "\n",
    "The Deal button should start a new game. Shuffle a deck of cards, then display two cards for the dealer in the top row, with one card face down, and display two cards for the player, both face up, in the bottom row. The remaining four places in each row should be blank cards.  This is the initial display (using the CardTextLabel class to work around the IPython image bug):\n",
    "\n",
    "<img src=\"http://www.cs.uoregon.edu/Classes/15S/cis211/images/blackjack_hand.png\"/>\n",
    "\n",
    "The Hit button should add a card, face up, in the bottom row, and it should update the player’s score using a function named `total` (described below). If the score is over 21 the player loses the game, and your program should display an alert box with a consoling message.\n",
    "\n",
    "If the user clicks the Stand button, turn over the dealer’s hidden card and compute the total points for the cards in the dealer’s row. Then while the dealer’s total score is less than 17 add cards (displayed face up) to the dealer’s hand and add the points for that card to the dealer’s total. When the dealer’s total is 17 or higher compare the dealer’s total with the player’s total and display a message that shows the result of the game (dealer wins, player wins, or tie game)."
   ]
  },
  {
   "cell_type": "markdown",
   "metadata": {},
   "source": [
    "### <span style=\"color:teal\">Counting Points</span>\n"
   ]
  },
  {
   "cell_type": "markdown",
   "metadata": {},
   "source": [
    "In Blackjack aces can be either 11 points or 1 point.  The function that computes the total number of points in a hand needs to \"optimize\" the assignment of points for each ace.\n",
    "\n",
    "An algorithm on page 201 (Sec 6.5) of the textbook explains how to compute the points in a hand.  You need to adapt this so it works with our Card objects.\n",
    "\n",
    "The idea is to use a loop that computes an initial total, using 11 points for each ace and counting the number of aces in the hand. Then a second loop changes aces to 1 point if necessary: while the number of aces is greater than 0 and the total is greater than 21 subtract 10 from the total and subtract one from the ace counter."
   ]
  },
  {
   "cell_type": "markdown",
   "metadata": {},
   "source": [
    "### <span style=\"color:teal\">Define a New Frame Class</span>"
   ]
  },
  {
   "cell_type": "markdown",
   "metadata": {},
   "source": [
    "For full credit, your GUI should be fully encapsulated inside a new class named BlackjackFrame, derived from Tk's Frame class."
   ]
  },
  {
   "cell_type": "markdown",
   "metadata": {},
   "source": [
    "You can write a program that uses global variables as names of widgets and callbacks, but there will be a **10% penalty.**"
   ]
  },
  {
   "cell_type": "markdown",
   "metadata": {},
   "source": [
    "### <span style=\"color:teal\">Variable Names</span>"
   ]
  },
  {
   "cell_type": "markdown",
   "metadata": {},
   "source": [
    "<span style=\"color:red; font-weight:bold;\">Important:</span> The automated test program we will use for this project requires you to use the following variable names:\n",
    "* use `cards` as the name of the deck of cards\n",
    "* use `player_hand` and `dealer_hand` for the names of the lists of cards for each player\n",
    "* use `dealcb`, `hitcb`, and `standcb` as the names for the callback functions for the Deal, Hit, and Stand buttons\n",
    "\n",
    "Note: If you are putting all your code inside the BlackjackFrame class, the list names should all be preceded by an underscore: `_cards`, `_player_hand`, and `_dealer_hand`."
   ]
  },
  {
   "cell_type": "markdown",
   "metadata": {},
   "source": [
    "### <span style=\"color:teal\">Your Program</span> "
   ]
  },
  {
   "cell_type": "markdown",
   "metadata": {},
   "source": [
    "##### <span style=\"color:red\">Documentation:</span>"
   ]
  },
  {
   "cell_type": "markdown",
   "metadata": {},
   "source": [
    "Testing was done by using print statements in each function to make sure objects were appended to lists properly, to track move, and making sure the game was reset properly when Deal button is pressed. Each function tested as it was written.\n",
    "\n",
    "BlackjackFrame contains four functions, `deal` which resets the game, `hit` uses deal from Deck() to add new cards to a players hand, `stand` compares the dealer and players hands after using deal from Deck() to add cards to the dealers hands, and `total` calculates the points in a given hand which is used in both `hit` and `stand` to trigger the appropriate win or lose message boxes based on how many points each hand has."
   ]
  },
  {
   "cell_type": "markdown",
   "metadata": {},
   "source": [
    "##### <span style=\"color:red\">Program:</span>"
   ]
  },
  {
   "cell_type": "code",
   "execution_count": 16,
   "metadata": {
    "collapsed": false
   },
   "outputs": [],
   "source": [
    "class BlackjackFrame(Frame):\n",
    "    \"\"\"\n",
    "    Subclass of Frame, creates a blackjack game.\n",
    "    \"\"\"\n",
    "    \n",
    "    _player_hand = []\n",
    "    _dealer_hand = []\n",
    "    \n",
    "    _player_move = 0\n",
    "    _dealer_move = 0\n",
    "    \n",
    "    _player_wins = 0\n",
    "    _dealer_wins = 0\n",
    "    \n",
    "    def __init__(self, parent):\n",
    "        \"\"\"\n",
    "        Buttons and card labels initialized.\n",
    "        \"\"\"\n",
    "        \n",
    "        Frame.__init__(self, parent)\n",
    "        self.configure(background = 'white')\n",
    "        \n",
    "        self._cards = Deck(BlackjackCard)\n",
    "        self._cards.shuffle()\n",
    "        self.pack()\n",
    "        \n",
    "        CardLabel.load_images()\n",
    "        \n",
    "        # dealers cards\n",
    "        self._dc1 = CardLabel(self)\n",
    "        self._dc1.grid(row = 0, column = 0)\n",
    "        self._dc2 = CardLabel(self)\n",
    "        self._dc2.grid(row = 0, column = 1)\n",
    "        self._dc3 = CardLabel(self)\n",
    "        self._dc3.grid(row = 0, column = 2)\n",
    "        self._dc4 = CardLabel(self)\n",
    "        self._dc4.grid(row = 0, column = 3)\n",
    "        self._dc5 = CardLabel(self)\n",
    "        self._dc5.grid(row = 0, column = 4)\n",
    "        self._dc6 = CardLabel(self)\n",
    "        self._dc6.grid(row = 0, column = 5)\n",
    "        \n",
    "        # players cards\n",
    "        self._pc1 = CardLabel(self)\n",
    "        self._pc1.grid(row = 1, column = 0)\n",
    "        self._pc2 = CardLabel(self)\n",
    "        self._pc2.grid(row = 1, column = 1)\n",
    "        self._pc3 = CardLabel(self)\n",
    "        self._pc3.grid(row = 1, column = 2)\n",
    "        self._pc4 = CardLabel(self)\n",
    "        self._pc4.grid(row = 1, column = 3)\n",
    "        self._pc5 = CardLabel(self)\n",
    "        self._pc5.grid(row = 1, column = 4)\n",
    "        self._pc6 = CardLabel(self)\n",
    "        self._pc6.grid(row = 1, column = 5)\n",
    "        \n",
    "        self._deal = Button(self, text = 'Deal', command = self.dealcb)\n",
    "        self._deal.grid(row = 2, column = 0, padx = 10, pady = 10)\n",
    "        self._hit = Button(self, text = 'Hit', command = self.hitcb)\n",
    "        self._hit.grid(row = 2, column = 2, padx = 10, pady = 10)\n",
    "        self._stand = Button(self, text = 'Stand', command = self.standcb)\n",
    "        self._stand.grid(row = 2, column = 4, padx = 10, pady = 10)\n",
    "\n",
    "        self.dealcb()\n",
    "        \n",
    "    def dealcb(self):\n",
    "        \"\"\"\n",
    "        Resets player and dealer hands with 2 cards each from top of deck and sets up starting layout for each hand.\n",
    "        \"\"\"\n",
    "        \n",
    "        self._hit.configure(state = ACTIVE)\n",
    "        self._stand.configure(state = ACTIVE)\n",
    "        \n",
    "        # put cards back at end of deck.\n",
    "        old = self._dealer_hand + self._player_hand\n",
    "        self._cards.restore(old)\n",
    "\n",
    "        self._player_hand = self._cards.deal(2)\n",
    "        self._dealer_hand = self._cards.deal(2)\n",
    "        self._player_move = 0\n",
    "        self._dealer_move = 0\n",
    "        \n",
    "        # dealers cards setup\n",
    "        self._dc1.display('back')\n",
    "        self._dc2.display('front', self._dealer_hand[1]._id)\n",
    "        self._dc3.display('blank')\n",
    "        self._dc4.display('blank')\n",
    "        self._dc5.display('blank')\n",
    "        self._dc6.display('blank')\n",
    "        \n",
    "        # players cards setup\n",
    "        self._pc1.display('front', self._player_hand[0]._id)\n",
    "        self._pc2.display('front', self._player_hand[1]._id)\n",
    "        self._pc3.display('blank')\n",
    "        self._pc4.display('blank')\n",
    "        self._pc5.display('blank')\n",
    "        self._pc6.display('blank')\n",
    "        \n",
    "        # dealer and player win count\n",
    "        Label(self, text = 'Dealer Wins: ').grid(row = 3, column = 2, padx = 10, pady = 10)\n",
    "        self.dcount = Label(self, text = self._dealer_wins)\n",
    "        self.dcount.update_idletasks()\n",
    "        self.dcount.grid(row = 3, column = 3, padx = 10, pady = 10)\n",
    "        Label(self, text = 'Player Wins: ').grid(row = 4, column = 2, padx = 10, pady = 10)\n",
    "        self.pcounts = Label(self, text = self._player_wins)\n",
    "        self.pcounts.grid(row = 4, column = 3, padx = 10, pady = 10)\n",
    "        self.pcounts.update_idletasks()\n",
    "    \n",
    "    def hitcb(self):\n",
    "        \"\"\"\n",
    "        Appends card from top of deck to players hand, changes display of cards in players hand from blank to the new card. \n",
    "        \"\"\"\n",
    "    \n",
    "        label = [self._pc3, self._pc4, self._pc5, self._pc6]\n",
    "    \n",
    "        if self._player_move < 4 and self.total(self._player_hand) <= 21:\n",
    "            card = self._cards.deal(1)\n",
    "            self._player_hand.extend(card)\n",
    "            label[self._player_move].display('front', self._player_hand[self._player_move + 2]._id)\n",
    "            self._player_move += 1\n",
    "            \n",
    "            if self.total(self._player_hand) > 21:\n",
    "                self._hit.configure(state = DISABLED)\n",
    "                showinfo(title = 'Game Over', message = 'You Lose, Total Over 21')\n",
    "                self._player_move = 0\n",
    "                self._dealer_wins += 1\n",
    "    \n",
    "    def standcb(self):\n",
    "        \"\"\"\n",
    "        'flips' over dealers first card to front, compares total points of player and dealer to determine winner.\n",
    "        \"\"\"\n",
    "        \n",
    "        label = [self._dc3, self._dc4, self._dc5, self._dc6]\n",
    "        \n",
    "        while self.total(self._dealer_hand) < 17:\n",
    "            card = self._cards.deal(1)\n",
    "            self._dealer_hand.extend(card)\n",
    "            label[self._dealer_move].display('front', self._dealer_hand[self._dealer_move + 2]._id)\n",
    "            self._dealer_move += 1\n",
    "         \n",
    "        # prevent game being continued after stand command\n",
    "        self._hit.configure(state = DISABLED)\n",
    "        self._stand.configure(state = DISABLED)\n",
    "        self._dc1.display('front', self._dealer_hand[0]._id)\n",
    "        \n",
    "        dealer_total, player_total = self.total(self._dealer_hand), self.total(self._player_hand)\n",
    "        \n",
    "        # winner determination\n",
    "        if dealer_total <= 21 and player_total <= 21:\n",
    "            if dealer_total > player_total:\n",
    "                showinfo(title = 'Game Over', message = 'You Lose, Dealer Wins')\n",
    "                self._dealer_wins += 1\n",
    "            elif player_total > dealer_total:\n",
    "                showinfo(title = 'Game Over', message = 'You Win!')\n",
    "                self._player_wins += 1\n",
    "            elif dealer_total > 21:\n",
    "                showinfo(title = 'Game Over', message = 'You Win!')\n",
    "                self._player_wins += 1\n",
    "            else:\n",
    "                showinfo(title = 'Game Over', message = \"It's a tie\")\n",
    "        else:\n",
    "            showinfo(title = 'Game Over', message = \"It's a tie\")\n",
    "        \n",
    "        \n",
    "    def total(self, hand):\n",
    "        \"\"\"\n",
    "        Calculates the total for a given hand.\n",
    "        \"\"\"\n",
    "        points = 0\n",
    "        n_aces = 0\n",
    "        \n",
    "        for card in hand:\n",
    "            points += card.points()\n",
    "            if card.rank() == 12:\n",
    "                n_aces += 1\n",
    "        \n",
    "        while points > 21 and n_aces > 0: # if Ace is 1 or 11\n",
    "            points -= 10\n",
    "            n_aces -= 1\n",
    "            \n",
    "        return points"
   ]
  },
  {
   "cell_type": "code",
   "execution_count": 17,
   "metadata": {
    "collapsed": false,
    "scrolled": true
   },
   "outputs": [],
   "source": [
    "blackjack = Tk()\n",
    "blackjack.geometry('510x400')\n",
    "BlackjackFrame(blackjack).pack()"
   ]
  },
  {
   "cell_type": "markdown",
   "metadata": {
    "collapsed": true
   },
   "source": [
    "### <span style=\"color:teal\">Extra Credit Ideas</span>"
   ]
  },
  {
   "cell_type": "markdown",
   "metadata": {},
   "source": [
    "<span style=\"color:red; font-weight:bold;\">Important:</span>  To earn extra credit points make sure you fill in the following markup cell to explain what you did so the graders will look for your extensions when they grade your project:"
   ]
  },
  {
   "cell_type": "markdown",
   "metadata": {},
   "source": [
    "* Keeping count of number of games won and lost"
   ]
  },
  {
   "cell_type": "markdown",
   "metadata": {
    "collapsed": true
   },
   "source": [
    "Keep track of how many games the player has won or lost, display the counts in text labels"
   ]
  },
  {
   "cell_type": "markdown",
   "metadata": {},
   "source": [
    "Let the user specify an initial amount of money they want to play with, and the amount they want to bet at the start of a game.  When the game is over add to or subtract from their balance."
   ]
  },
  {
   "cell_type": "markdown",
   "metadata": {},
   "source": [
    "Check to see if the player or dealer have \"blackjack\" (the hand has 21 points with only two cards).  A blackjack wins the game immediately."
   ]
  },
  {
   "cell_type": "markdown",
   "metadata": {},
   "source": [
    "In some casinos, the dealer or the player wins if they have 5 cards that total 21 or less, no matter what the other player’s total is (unless the other person has a blackjack)."
   ]
  },
  {
   "cell_type": "markdown",
   "metadata": {},
   "source": [
    "#### Extra Credit: Monte Carlo "
   ]
  },
  {
   "cell_type": "markdown",
   "metadata": {},
   "source": [
    "The window in your Blackjack program has room for 6 cards for each player. Is this enough space? What is the probability of a player needing more than 6 cards? One way to figure this out is to use a technique called, appropriately enough, **Monte Carlo integration.**\n",
    "\n",
    "Create a histogram with 10 bins, labeled 1 through 10, all initially set to 0. Then deal a series of hands, keeping track of how many cards you need to deal before the total is 22 or higher. For each hand update the bin that corresponds to the number of cards dealt; for example, if a hand reaches 25 on the 3rd card add one to the count in bin 3. If you repeat this process several million times you will start to get a pretty good idea of the shape of the probability distribution.\n",
    "\n",
    "How many times did you get a hand that would have won a game with 5 cards, *i.e.* how many hands took 6 or more cards to go past 21? From this count can you calculate the probability of winning with 5 cards? Will your program ever see a hand that requires 7 or more images in a single row?\n"
   ]
  }
 ],
 "metadata": {
  "kernelspec": {
   "display_name": "Python 3",
   "language": "python",
   "name": "python3"
  },
  "language_info": {
   "codemirror_mode": {
    "name": "ipython",
    "version": 3
   },
   "file_extension": ".py",
   "mimetype": "text/x-python",
   "name": "python",
   "nbconvert_exporter": "python",
   "pygments_lexer": "ipython3",
   "version": "3.4.1"
  }
 },
 "nbformat": 4,
 "nbformat_minor": 0
}
