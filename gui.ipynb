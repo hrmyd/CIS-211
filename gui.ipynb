{
 "cells": [
  {
   "cell_type": "markdown",
   "metadata": {},
   "source": [
    "##### <span style=\"color:red\">Name:</span>"
   ]
  },
  {
   "cell_type": "markdown",
   "metadata": {},
   "source": [
    "=== *Edit this code cell to include your name and DuckID* ==="
   ]
  },
  {
   "cell_type": "markdown",
   "metadata": {},
   "source": [
    "# <span style=\"color:teal;\">CIS 211 Project 4:  Building GUIs with Tk</span>"
   ]
  },
  {
   "cell_type": "markdown",
   "metadata": {},
   "source": [
    "##### Due 11:00 P.M. Tuesday April 28"
   ]
  },
  {
   "cell_type": "markdown",
   "metadata": {},
   "source": [
    "##### Reading:  Perkovic Ch 9"
   ]
  },
  {
   "cell_type": "markdown",
   "metadata": {},
   "source": [
    "This week's project is an introduction to graphical user interfaces.  You will write three short programs to learn how to create and use a GUI:\n",
    "* a simple \"hello, world\" program to make sure you can import the Tk library and create an application\n",
    "* a program that reads values from text entry widgets\n",
    "* a program that experiments with card images (to set the stage for next week's Blackjack program)"
   ]
  },
  {
   "cell_type": "markdown",
   "metadata": {},
   "source": [
    "##### Documentation for GUI Programs"
   ]
  },
  {
   "cell_type": "markdown",
   "metadata": {},
   "source": [
    "For this week's projects there is just one markdown cell to fill in for documentation (the \"hello\" project doesn't need a description).  You will find the markdown cell for a project below the code cell for that project.  Use the markdown cell to explain what you did to create a GUI and how you tested it."
   ]
  },
  {
   "cell_type": "markdown",
   "metadata": {},
   "source": [
    "### <span style=\"color:teal\">Setup</span>"
   ]
  },
  {
   "cell_type": "markdown",
   "metadata": {},
   "source": [
    "To test a GUI program from an IPython Notebook execute the following code cell each time you open this notebook or reset the kernel:"
   ]
  },
  {
   "cell_type": "code",
   "execution_count": 1,
   "metadata": {
    "collapsed": false
   },
   "outputs": [],
   "source": [
    "%gui tk\n",
    "\n",
    "from tkinter import *"
   ]
  },
  {
   "cell_type": "markdown",
   "metadata": {},
   "source": [
    "### <span style=\"color:teal\">1. &nbsp; Hello, World</span>"
   ]
  },
  {
   "cell_type": "markdown",
   "metadata": {},
   "source": [
    "The following code cell has an assignment statement that creates a top level Tk application named `hello_app`.  Add statements to the code cell so the program includes a label that says \"Hello, World\":\n",
    "\n",
    "<img src=\"http://www.cs.uoregon.edu/Classes/15S/cis211/images/hello_gui.png\"/>\n",
    "\n",
    "You can use the default font, but feel free to experiment with other fonts, font sizes, colors, *etc*."
   ]
  },
  {
   "cell_type": "code",
   "execution_count": 6,
   "metadata": {
    "collapsed": false
   },
   "outputs": [
    {
     "ename": "KeyboardInterrupt",
     "evalue": "",
     "output_type": "error",
     "traceback": [
      "\u001b[1;31m---------------------------------------------------------------------------\u001b[0m",
      "\u001b[1;31mKeyboardInterrupt\u001b[0m                         Traceback (most recent call last)",
      "\u001b[1;32m<ipython-input-6-6e4a65db4afa>\u001b[0m in \u001b[0;36m<module>\u001b[1;34m()\u001b[0m\n\u001b[0;32m     10\u001b[0m \u001b[1;33m\u001b[0m\u001b[0m\n\u001b[0;32m     11\u001b[0m \u001b[0mhello\u001b[0m\u001b[1;33m.\u001b[0m\u001b[0mpack\u001b[0m\u001b[1;33m(\u001b[0m\u001b[1;33m)\u001b[0m\u001b[1;33m\u001b[0m\u001b[0m\n\u001b[1;32m---> 12\u001b[1;33m \u001b[0mhello_app\u001b[0m\u001b[1;33m.\u001b[0m\u001b[0mmainloop\u001b[0m\u001b[1;33m(\u001b[0m\u001b[1;33m)\u001b[0m\u001b[1;33m\u001b[0m\u001b[0m\n\u001b[0m",
      "\u001b[1;32mC:\\Python34\\lib\\tkinter\\__init__.py\u001b[0m in \u001b[0;36mmainloop\u001b[1;34m(self, n)\u001b[0m\n\u001b[0;32m   1067\u001b[0m     \u001b[1;32mdef\u001b[0m \u001b[0mmainloop\u001b[0m\u001b[1;33m(\u001b[0m\u001b[0mself\u001b[0m\u001b[1;33m,\u001b[0m \u001b[0mn\u001b[0m\u001b[1;33m=\u001b[0m\u001b[1;36m0\u001b[0m\u001b[1;33m)\u001b[0m\u001b[1;33m:\u001b[0m\u001b[1;33m\u001b[0m\u001b[0m\n\u001b[0;32m   1068\u001b[0m         \u001b[1;34m\"\"\"Call the mainloop of Tk.\"\"\"\u001b[0m\u001b[1;33m\u001b[0m\u001b[0m\n\u001b[1;32m-> 1069\u001b[1;33m         \u001b[0mself\u001b[0m\u001b[1;33m.\u001b[0m\u001b[0mtk\u001b[0m\u001b[1;33m.\u001b[0m\u001b[0mmainloop\u001b[0m\u001b[1;33m(\u001b[0m\u001b[0mn\u001b[0m\u001b[1;33m)\u001b[0m\u001b[1;33m\u001b[0m\u001b[0m\n\u001b[0m\u001b[0;32m   1070\u001b[0m     \u001b[1;32mdef\u001b[0m \u001b[0mquit\u001b[0m\u001b[1;33m(\u001b[0m\u001b[0mself\u001b[0m\u001b[1;33m)\u001b[0m\u001b[1;33m:\u001b[0m\u001b[1;33m\u001b[0m\u001b[0m\n\u001b[0;32m   1071\u001b[0m         \u001b[1;34m\"\"\"Quit the Tcl interpreter. All widgets will be destroyed.\"\"\"\u001b[0m\u001b[1;33m\u001b[0m\u001b[0m\n",
      "\u001b[1;31mKeyboardInterrupt\u001b[0m: "
     ]
    }
   ],
   "source": [
    "hello_app = Tk()\n",
    "\n",
    "hello = Label(hello_app,\n",
    "              width = 30,\n",
    "              height = 10, \n",
    "              font = 30,\n",
    "              foreground = 'blue',\n",
    "              background = 'white',\n",
    "              text = 'Hello, world!')\n",
    "\n",
    "hello.pack()    \n",
    "hello_app.mainloop()"
   ]
  },
  {
   "cell_type": "markdown",
   "metadata": {
    "collapsed": true
   },
   "source": [
    "### <span style=\"color:teal\">2. &nbsp; Payment Calculator</span>"
   ]
  },
  {
   "cell_type": "markdown",
   "metadata": {},
   "source": [
    "Create a program that computes the monthly payment on a loan. The payment is a function of the loan amount, the annual interest rate, and the number of years to pay off the loan. To calculate the payment, first compute two values named $r$ and $p$, defined by these equations:\n",
    "\n",
    "$ r = ( \\textrm{rate} \\; / \\; 100 ) \\; / \\; 12 $\n",
    "\n",
    "$ p = 12 \\times \\textrm{years} $\n",
    "\n",
    "The monthly payment is then\n",
    "\n",
    "$ \\textrm{payment} = ( r \\times \\textrm{amount} ) \\; / \\; ( 1 - (1 + r)^{-p} ) $"
   ]
  },
  {
   "cell_type": "markdown",
   "metadata": {},
   "source": [
    "For example, if you take out a 30-year loan for \\$150,000 at an annual rate of 4.5% your payment would be \\$760.03 per month."
   ]
  },
  {
   "cell_type": "markdown",
   "metadata": {},
   "source": [
    "The GUI for this application should have four text entry boxes, and each box should have a label to its left that explains what the box holds.  The first three boxes are for the user to enter the loan amount, the interest rate, and the number of years to repay the loan. \n",
    "\n",
    "The GUI should have a button labeled “compute payment”. When the user clicks this button, your program should read the values of the three parameters, use the equations shown above to calculate the monthly payment, and display the payment amount in the fourth text entry box.\n",
    "\n",
    "<img src=\"http://www.cs.uoregon.edu/Classes/15S/cis211/images/payment_gui.png\"/>"
   ]
  },
  {
   "cell_type": "markdown",
   "metadata": {},
   "source": [
    "The code cell below creates the top level application window for this GUI.  Add statements that create the labels, boxes, and button and add them to the application.  You can add additional code cells if you want to use separate cells to define and test your callback function.\n",
    "\n",
    "<span style=\"color:red; font-weight:bold;\">Important:</span> The graders will use automated tests to check the correctness of your program.  These tests require you to use the following variable names to refer to the widgets in your program:\n",
    "* `amount_entry`\n",
    "* `interest_entry`\n",
    "* `period_entry`\n",
    "* `payment_entry`\n",
    "* `compute_button`"
   ]
  },
  {
   "cell_type": "code",
   "execution_count": 3,
   "metadata": {
    "collapsed": false
   },
   "outputs": [],
   "source": [
    "payment_app = Tk()\n",
    "payment_app.geometry(\"250x200\")\n",
    "calc = Frame(payment_app)\n",
    "\n",
    "def payment():\n",
    "    rate = float(interest_entry.get())\n",
    "    r = (rate/100)/12  # calculate r\n",
    "    \n",
    "    years = int(period_entry.get())\n",
    "    p = 12 * years   # calculate principal \n",
    "    \n",
    "    loan = int(amount_entry.get())\n",
    "    \n",
    "    pay = round(((r * loan) / ( 1 - (1 + r)**(-p))), 2)   # calculate monthly payments\n",
    "    payment_entry.configure(state = 'normal')   # temporarily set state to normal to insert calculated payment\n",
    "    payment_entry.insert(0, pay)\n",
    "    payment_entry.configure(state = 'readonly')\n",
    "    \n",
    "\n",
    "# Loan amount\n",
    "amt_label = Label(calc, padx = 10, pady = 10, text = 'Loan Amount: ')\n",
    "amt_label.grid(row = 0, column = 0)\n",
    "\n",
    "amount_entry = Entry(calc)\n",
    "amount_entry.grid(row = 0, column = 1)\n",
    "\n",
    "# Interest Amount\n",
    "int_label = Label(calc, padx = 10, pady = 10, text = 'Interest Rate: ')\n",
    "int_label.grid(row = 1, column = 0)\n",
    "\n",
    "interest_entry = Entry(calc)\n",
    "interest_entry.grid(row = 1, column = 1)\n",
    "\n",
    "# Time on loan\n",
    "yrs_label = Label(calc, padx = 10, pady = 10, text = 'Loan Period: ')\n",
    "yrs_label.grid(row = 2, column = 0)\n",
    "\n",
    "period_entry = Entry(calc)\n",
    "period_entry.grid(row = 2, column = 1)\n",
    "\n",
    "# Payment output\n",
    "pay_label = Label(calc, padx = 10, pady = 10, text = 'Payment: ')\n",
    "pay_label.grid(row = 3, column = 0)\n",
    "\n",
    "payment_entry = Entry(calc, state = 'readonly')\n",
    "payment_entry.grid(row = 3, column = 1)\n",
    "\n",
    "compute_button = Button(payment_app, text = 'Compute Payment', command = payment)\n",
    "\n",
    "compute_button.pack(side=BOTTOM)\n",
    "calc.pack()\n",
    "payment_app.mainloop()"
   ]
  },
  {
   "cell_type": "markdown",
   "metadata": {},
   "source": [
    "##### <span style=\"color:red\">Documentation:</span>"
   ]
  },
  {
   "cell_type": "markdown",
   "metadata": {},
   "source": [
    "Simple GUI organizing entry boxes and labels using grid with input in a separate frame from button. Payment function gets input from entry boxes and uses them to calculate the monthly rate and outputs it.\n",
    "\n",
    "First, set up the entry boxes/labels, then tested calculation of r and p by printing out their outputs, then did the same with `pay` calculation. Also to make sure x.get() was getting the right values. "
   ]
  },
  {
   "cell_type": "markdown",
   "metadata": {},
   "source": [
    "### <span style=\"color:teal\">3. &nbsp; Flipper</span>"
   ]
  },
  {
   "cell_type": "markdown",
   "metadata": {},
   "source": [
    "For this project your GUI will create thee labels that show images of playing cards.  Below the cards there will be a button named \"Flip\".  Each time the user clicks a button one of the card images should be updated.\n",
    "\n",
    "When the GUI is initialized the user should see the backs of three cards.  The first button click will turn over the first card, the second click will turn over the second card, and the third click will turn over the third card.  The GUI will look something like this after two clicks:\n",
    "\n",
    "<img src=\"http://www.cs.uoregon.edu/Classes/15S/cis211/images/flipper_gui.png\"/>"
   ]
  },
  {
   "cell_type": "markdown",
   "metadata": {},
   "source": [
    "The fourth, fifth, and sixth clicks will make it look like the cards are being deleted, but in fact all you will be doing is changing the image so it is a blank white rectangle.  After the fifth click this is what the GUI looks like:\n",
    "\n",
    "<img src=\"http://www.cs.uoregon.edu/Classes/15S/cis211/images/flipper_gui_2.png\"/>"
   ]
  },
  {
   "cell_type": "markdown",
   "metadata": {},
   "source": [
    "The seventh, eighth, and ninth clicks will \"redeal\" the cards by updating the images to show the backs of the three cards again.  After that the clicks repeat the same cycle of revealing, removing, and redealing the cards."
   ]
  },
  {
   "cell_type": "markdown",
   "metadata": {},
   "source": [
    "The methods that create and manipulate playing card images are in a class called CardLabel.  The class uses a set of 54 GIF images in a folder called `cardimages`.  You need to download the class and the folder, unpack the folder, and move the class and folder to your project directory.  When you test your program, start by executing this code cell, which will import the class (and a function from Python's `random` library):"
   ]
  },
  {
   "cell_type": "code",
   "execution_count": 2,
   "metadata": {
    "collapsed": false
   },
   "outputs": [],
   "source": [
    "from random import randint\n",
    "from CardLabel import CardTextLabel as CardLabel # workaround for bug in IPython (see lecture notes)\n",
    "from Card import *"
   ]
  },
  {
   "cell_type": "markdown",
   "metadata": {
    "collapsed": true
   },
   "source": [
    "To add the picture of a card to your GUI create an instance of the CardLabel class:\n",
    "<pre>\n",
    "    label = CardLabel(app)\n",
    "</pre>\n",
    "\n",
    "Call a method named `display` to control what the label looks like.  The first argument is a string that specifies what the card looks like, and the second is an optional card number:\n",
    "* call `label.display('back')` to have the label show the back of a card\n",
    "* call `label.display('blank')` to make it look like the card has disappeared\n",
    "* call `label.display('front', n)` to have the label show the image of card `n`, where `n` is a number between 0 and 51.\n",
    "\n",
    "When your program displays the front of a card you can choose a random card number using `randint`."
   ]
  },
  {
   "cell_type": "markdown",
   "metadata": {},
   "source": [
    "**Hint:** This is another place you can apply the advice to replace control structures with equations.  Define a global variable called `move`.  Inside the callback function use the value of `move` to figure out what to do, then add 1 to `move` so a new action takes place on the next call."
   ]
  },
  {
   "cell_type": "markdown",
   "metadata": {},
   "source": [
    "Fill in the code cell below with the definitions of the three card labels and the Flip button.  Use additional cells if you want to define and test your callback function.\n",
    "\n",
    "<span style=\"color:red; font-weight:bold;\">Important:</span> The automated test program requires you to use the variable name `flip_button` to refer to the button you create."
   ]
  },
  {
   "cell_type": "code",
   "execution_count": null,
   "metadata": {
    "collapsed": false
   },
   "outputs": [],
   "source": [
    "flipper_app = Tk()\n",
    "\n",
    "CardLabel.load_images()\n",
    "box = Frame(flipper_app)\n",
    "box.pack()\n",
    "\n",
    "card1 = CardLabel(box)\n",
    "card1.grid(row = 0, column = 1)\n",
    "\n",
    "card2 = CardLabel(box)\n",
    "card2.grid(row = 0, column = 2)\n",
    "\n",
    "card3 = CardLabel(box)\n",
    "card3.grid(row = 0, column = 3)\n",
    "\n",
    "move = 0\n",
    "\n",
    "def flip():\n",
    "    global move\n",
    "    \n",
    "    side = ['front', 'front', 'front', 'blank', 'blank', 'blank', 'back', 'back', 'back']\n",
    "    label = [card1, card2, card3] * 3\n",
    "    \n",
    "    if move < 9:\n",
    "        label[move].display(side[move], randint(0,51))\n",
    "        flipper_app.update()\n",
    "        move += 1\n",
    "    else:\n",
    "        move = 0\n",
    "    \n",
    "flip_button = Button(flipper_app, text = 'Flip', command = flip)\n",
    "flip_button.pack()\n",
    "\n",
    "flipper_app.mainloop()"
   ]
  },
  {
   "cell_type": "markdown",
   "metadata": {},
   "source": [
    "##### <span style=\"color:red\">Documentation:</span>"
   ]
  },
  {
   "cell_type": "markdown",
   "metadata": {},
   "source": [
    "`flip` moves through side and label lists in order to flip cards using `move` variable. `move` assigns index value for each list if the value is < 9 other `move` is reset to 0 along with cycling through each list. \n",
    "\n",
    "tested by first making one card flip with each button click then on adding 2 more cards and flipping them in order."
   ]
  },
  {
   "cell_type": "markdown",
   "metadata": {
    "collapsed": true
   },
   "source": [
    "### <span style=\"color:teal\">Extra Credit Ideas</span>"
   ]
  },
  {
   "cell_type": "markdown",
   "metadata": {},
   "source": [
    "<span style=\"color:red; font-weight:bold;\">Important:</span>  To earn extra credit points make sure you fill in the following markup cell to explain what you did so the graders will look for your extensions when they grade your project:"
   ]
  },
  {
   "cell_type": "markdown",
   "metadata": {},
   "source": [
    "* Payment entry box is readonly\n",
    "* Playing with label options in hello, world"
   ]
  },
  {
   "cell_type": "markdown",
   "metadata": {},
   "source": [
    "###### Hello, World"
   ]
  },
  {
   "cell_type": "markdown",
   "metadata": {
    "collapsed": true
   },
   "source": [
    "* Play around with different sizes, shapes, colors, and fonts in your “hello, world” program.\n",
    "\n",
    "* Add a quit button. \n",
    "\n",
    "* Add buttons with the names of different languages so that when the user clicks a button the message changes to “hello” in that language."
   ]
  },
  {
   "cell_type": "markdown",
   "metadata": {},
   "source": [
    "###### Financial Calculations "
   ]
  },
  {
   "cell_type": "markdown",
   "metadata": {},
   "source": [
    "* Figure out how to disable a widget.  Disable the text entry box for the payment value so user's can't type anything there, *i.e.* the box should be \"read-only\"."
   ]
  },
  {
   "cell_type": "markdown",
   "metadata": {},
   "source": [
    "* Modify the callback function so it checks to see if three boxes are filled in, and if so, compute the value to put in the fourth box.  For example, if the rate, amount, and payment boxes are filled in compute the number of years until the loan is paid off and fill in the year box.\n",
    "\n",
    "The equation that relates the initial loan amount ($a$), interest rate ($r$), payment amount ($p$), and number of payments ($n$) is\n",
    "\n",
    "$$ a (1 + r)^n - p [ ((1+r)^n - 1) / r ] = 0 $$\n",
    "\n",
    "You can use basic algebra to rewite the equation so you can (1) compute $p$ given $a$, $r$ and $n$, or (2) compute $a$ given $p$, $r$, and $n$, or (3) compute $n$ given $p$, $a$, and $r$  (figuring out $r$ as a function of $a$, $p$, and $n$ takes a bit more work).\n",
    "\n"
   ]
  }
 ],
 "metadata": {
  "kernelspec": {
   "display_name": "Python 3",
   "language": "python",
   "name": "python3"
  },
  "language_info": {
   "codemirror_mode": {
    "name": "ipython",
    "version": 3
   },
   "file_extension": ".py",
   "mimetype": "text/x-python",
   "name": "python",
   "nbconvert_exporter": "python",
   "pygments_lexer": "ipython3",
   "version": "3.4.1"
  }
 },
 "nbformat": 4,
 "nbformat_minor": 0
}
