{
 "cells": [
  {
   "cell_type": "markdown",
   "metadata": {},
   "source": [
    "# <span style=\"color:teal;\">CIS 211 Project 2:  Card Class</span>"
   ]
  },
  {
   "cell_type": "markdown",
   "metadata": {},
   "source": [
    "##### Due 11:00 P.M. Tuesday April 14"
   ]
  },
  {
   "cell_type": "markdown",
   "metadata": {},
   "source": [
    "##### Reading:  Perkovic Sec 6.4--6.5 and 8.1--8.2"
   ]
  },
  {
   "cell_type": "markdown",
   "metadata": {},
   "source": [
    "The next project this term explores *inheritance*, one of the fundamental concepts of object-oriented programming."
   ]
  },
  {
   "cell_type": "markdown",
   "metadata": {},
   "source": [
    "###  <span style=\"color:teal\">1. &nbsp; Card Class</span>"
   ]
  },
  {
   "cell_type": "markdown",
   "metadata": {},
   "source": [
    "Write the definition of a new class named Card, where each instance of the class will be a single playing card.\n",
    "\n",
    "The constructor should take an integer id between 0 and 51 to specify which card to make. Cards 0 to 12 are clubs, 13 to 25 diamonds, 26 to 38 hearts, and 39 to 51 spades, as shown in this table:\n",
    "<table>\n",
    "  <tr>\n",
    "    <th width=\"50\"> &nbsp; </th>\n",
    "    <th width=\"35\">2</th>\n",
    "    <th width=\"35\">3</th>\n",
    "    <th width=\"35\">4</th>\n",
    "    <th width=\"35\">5</th>\n",
    "    <th width=\"35\">6</th>\n",
    "    <th width=\"35\">7</th>\n",
    "    <th width=\"35\">8</th>\n",
    "    <th width=\"35\">9</th>\n",
    "    <th width=\"35\">10</th>\n",
    "    <th width=\"35\">J</th>\n",
    "    <th width=\"35\">Q</th>\n",
    "    <th width=\"35\">K</th>\n",
    "    <th width=\"35\">A</th>\n",
    "  </tr>\n",
    "  <tr>\n",
    "    <th> ♣ </th>\n",
    "    <td>0</td>\n",
    "    <td>1</td>\n",
    "    <td>2</td>\n",
    "    <td>3</td>\n",
    "    <td>4</td>\n",
    "    <td>5</td>\n",
    "    <td>6</td>\n",
    "    <td>7</td>\n",
    "    <td>8</td>\n",
    "    <td>9</td>\n",
    "    <td>10</td>\n",
    "    <td>11</td>\n",
    "    <td>12</td>\n",
    "  </tr>\n",
    "  <tr>\n",
    "    <th> ♦ </th>\n",
    "    <td>13</td>\n",
    "    <td>14</td>\n",
    "    <td>15</td>\n",
    "    <td>16</td>\n",
    "    <td>17</td>\n",
    "    <td>18</td>\n",
    "    <td>19</td>\n",
    "    <td>20</td>\n",
    "    <td>21</td>\n",
    "    <td>22</td>\n",
    "    <td>23</td>\n",
    "    <td>24</td>\n",
    "    <td>25</td>\n",
    "  </tr>\n",
    "  <tr>\n",
    "    <th> ♥ </th>\n",
    "    <td>26</td>\n",
    "    <td>27</td>\n",
    "    <td>28</td>\n",
    "    <td>29</td>\n",
    "    <td>30</td>\n",
    "    <td>31</td>\n",
    "    <td>32</td>\n",
    "    <td>33</td>\n",
    "    <td>34</td>\n",
    "    <td>35</td>\n",
    "    <td>36</td>\n",
    "    <td>37</td>\n",
    "    <td>38</td>\n",
    "  </tr>\n",
    "  <tr>\n",
    "    <th> ♠ </th>\n",
    "    <td>39</td>\n",
    "    <td>40</td>\n",
    "    <td>41</td>\n",
    "    <td>42</td>\n",
    "    <td>43</td>\n",
    "    <td>44</td>\n",
    "    <td>45</td>\n",
    "    <td>46</td>\n",
    "    <td>47</td>\n",
    "    <td>48</td>\n",
    "    <td>49</td>\n",
    "    <td>50</td>\n",
    "    <td>51</td>\n",
    "  </tr>\n",
    "</table>"
   ]
  },
  {
   "cell_type": "markdown",
   "metadata": {},
   "source": [
    "The class should have three methods in addition to the constructor:\n",
    "* `rank()` should return a number between 0 and 12, where a 2 has rank 0 and an ace has rank 12\n",
    "* `suit()` should return the suit number, with clubs = 0, diamonds = 1, hearts = 2, and spades = 3\n",
    "* `points()` should return 4 if the card is an ace, 3 if it’s a king, 2 if it’s a queen, 1 if it’s a jack, and 0 otherwise\n",
    "\n",
    "You also need to define two special methods:\n",
    "* the `__repr__` method should return a string based on the card's rank and suit\n",
    "* the `__lt__` operator should compare cards according to their ids."
   ]
  },
  {
   "cell_type": "markdown",
   "metadata": {},
   "source": [
    "The string returned by `__repr__` should start with the card's name, as shown in the column labels in the table above.  For example, if the rank is 0 (first column) the card's name is `'2'`, and if the rank is 10 the card name is `Q`.  All the names are one-letter strings except for rank 8, which has the name `10`.\n",
    "\n",
    "Following the name of the card there should be a one-letter suit symbol.  Since we're using IPython you can simply copy and paste the symbols from the table above when your write your code that adds suit symbols, or you can use the following Unicode escapes:\n",
    "<pre>\n",
    "♣ = \\u2663    ♦ = \\u2666    ♥ = \\u2665    ♠ = \\u2660\n",
    "</pre>"
   ]
  },
  {
   "cell_type": "markdown",
   "metadata": {},
   "source": [
    "Here are some examples from an interactive Python session that show how to make and use a Card object:\n",
    "<pre>\n",
    ">>> x = Card(35)\n",
    ">>> x\n",
    "J♥\n",
    "\n",
    ">>> x.suit()\n",
    "2\n",
    "\n",
    ">>> x.rank()\n",
    "9\n",
    "\n",
    ">>> x.points()\n",
    "1\n",
    "</pre>"
   ]
  },
  {
   "cell_type": "markdown",
   "metadata": {},
   "source": [
    "<span style=\"color:blue\">Style Points:</span> &nbsp; When you write the `rank` and `suit` methods don't forget we have an aversion to long chains of `if-elif` statements."
   ]
  },
  {
   "cell_type": "markdown",
   "metadata": {},
   "source": [
    "##### <span style=\"color:red\">Documentation:</span>"
   ]
  },
  {
   "cell_type": "markdown",
   "metadata": {},
   "source": [
    "The `Card` class determines rank and suit of a card based on it's id. Equations used in `suit` and `rank` method are based upon the 13 cards in each suit or the 13 values in each row of the above table. `suit` uses floor division to relate the id to 0-3 and `rank` calculates the remainder of division of the id by 13 to get a number 0-12. `__repr__` uses a global dictionary to relate the calculated rank and suit values to a symbolic representation of a card. `points` also uses a global dictionary to assign point values to each card."
   ]
  },
  {
   "cell_type": "markdown",
   "metadata": {},
   "source": [
    "##### <span style=\"color:red\">Code:</span>"
   ]
  },
  {
   "cell_type": "code",
   "execution_count": 1,
   "metadata": {
    "collapsed": false
   },
   "outputs": [],
   "source": [
    "suit = {\n",
    "    0: '♣', 1: '♦', 2: '♥', 3: '♠'\n",
    "    }\n",
    "rank = {\n",
    "    0: '2', 1: '3', 2: '4', 3: '5', 4: '6', 5: '7', 6: '8', 7: '9', 8: '10', 9: 'J', 10: 'Q', 11: 'K', 12: 'A'\n",
    "    }\n",
    "points = {\n",
    "    9: 1, 10: 2, 11: 3, 12: 4\n",
    "    }\n",
    "\n",
    "class Card:\n",
    "    \"\"\"\n",
    "    Takes a given card id and returns the suit and rank and a symbolic representation of the card. \n",
    "    \"\"\"\n",
    "        \n",
    "    def __init__(self, c):\n",
    "        \n",
    "        self._id = c   \n",
    "        if self._id not in range(0,52):\n",
    "            raise ValueError('please enter a value between 0 and 51')\n",
    "    \n",
    "    def rank(self):\n",
    "        \"\"\"\n",
    "        returns rank (0 to 12) of card based on id from 0 - 51\n",
    "        \"\"\"\n",
    "        return (self._id % 13)\n",
    "    \n",
    "    def suit(self):\n",
    "        \"\"\"\n",
    "        returns suit (0 to 4) of card based on id from 0-51\n",
    "        \"\"\"\n",
    "        return (self._id // 13)\n",
    "    \n",
    "    def points(self):\n",
    "        \"\"\"\n",
    "        assigns and returns point values of cards.\n",
    "        \"\"\"\n",
    "        if self.rank() in points:\n",
    "            return points[self.rank()]\n",
    "        else:\n",
    "            return 0\n",
    "        \n",
    "    def __repr__(self):\n",
    "        \"\"\"\n",
    "        returns symbollic representation of calculated rank and suit.\n",
    "        \"\"\"\n",
    "        return rank[self.rank()] + suit[self.suit()]\n",
    "        \n",
    "    def __lt__(self, other):\n",
    "        \"\"\"\n",
    "        compares and returns cards based on id.\n",
    "        \"\"\"\n",
    "        return self._id < other._id"
   ]
  },
  {
   "cell_type": "markdown",
   "metadata": {},
   "source": [
    "##### <span style=\"color:red\">Tests:</span>"
   ]
  },
  {
   "cell_type": "markdown",
   "metadata": {},
   "source": [
    "After you implement your constructor you can execute the following expression, which uses list comprehension to make a complete deck of cards:"
   ]
  },
  {
   "cell_type": "code",
   "execution_count": 2,
   "metadata": {
    "collapsed": false
   },
   "outputs": [],
   "source": [
    "deck = [ Card(i) for i in range(52) ]"
   ]
  },
  {
   "cell_type": "markdown",
   "metadata": {},
   "source": [
    "Now you can print the deck to see if all the cards are there:"
   ]
  },
  {
   "cell_type": "code",
   "execution_count": 6,
   "metadata": {
    "collapsed": false,
    "scrolled": true
   },
   "outputs": [
    {
     "name": "stdout",
     "output_type": "stream",
     "text": [
      "[2♣, 3♣, 4♣, 5♣, 6♣, 7♣, 8♣, 9♣, 10♣, J♣, Q♣, K♣, A♣, 2♦, 3♦, 4♦, 5♦, 6♦, 7♦, 8♦, 9♦, 10♦, J♦, Q♦, K♦, A♦, 2♥, 3♥, 4♥, 5♥, 6♥, 7♥, 8♥, 9♥, 10♥, J♥, Q♥, K♥, A♥, 2♠, 3♠, 4♠, 5♠, 6♠, 7♠, 8♠, 9♠, 10♠, J♠, Q♠, K♠, A♠]\n"
     ]
    }
   ],
   "source": [
    "print(deck)"
   ]
  },
  {
   "cell_type": "markdown",
   "metadata": {},
   "source": [
    "Use the following code cell plus any additional cells you want to test the methods of your Card class:"
   ]
  },
  {
   "cell_type": "code",
   "execution_count": 7,
   "metadata": {
    "collapsed": false
   },
   "outputs": [],
   "source": [
    "x = Card(51)"
   ]
  },
  {
   "cell_type": "code",
   "execution_count": 8,
   "metadata": {
    "collapsed": false
   },
   "outputs": [
    {
     "data": {
      "text/plain": [
       "3"
      ]
     },
     "execution_count": 8,
     "metadata": {},
     "output_type": "execute_result"
    }
   ],
   "source": [
    "x.suit()"
   ]
  },
  {
   "cell_type": "code",
   "execution_count": 9,
   "metadata": {
    "collapsed": false
   },
   "outputs": [
    {
     "data": {
      "text/plain": [
       "12"
      ]
     },
     "execution_count": 9,
     "metadata": {},
     "output_type": "execute_result"
    }
   ],
   "source": [
    "x.rank()"
   ]
  },
  {
   "cell_type": "code",
   "execution_count": 10,
   "metadata": {
    "collapsed": false
   },
   "outputs": [
    {
     "data": {
      "text/plain": [
       "4"
      ]
     },
     "execution_count": 10,
     "metadata": {},
     "output_type": "execute_result"
    }
   ],
   "source": [
    "x.points()"
   ]
  },
  {
   "cell_type": "code",
   "execution_count": 11,
   "metadata": {
    "collapsed": false
   },
   "outputs": [
    {
     "data": {
      "text/plain": [
       "A♠"
      ]
     },
     "execution_count": 11,
     "metadata": {},
     "output_type": "execute_result"
    }
   ],
   "source": [
    "x"
   ]
  },
  {
   "cell_type": "code",
   "execution_count": 12,
   "metadata": {
    "collapsed": true
   },
   "outputs": [],
   "source": [
    "y = Card(25)"
   ]
  },
  {
   "cell_type": "code",
   "execution_count": 13,
   "metadata": {
    "collapsed": false
   },
   "outputs": [
    {
     "data": {
      "text/plain": [
       "True"
      ]
     },
     "execution_count": 13,
     "metadata": {},
     "output_type": "execute_result"
    }
   ],
   "source": [
    "x > y"
   ]
  },
  {
   "cell_type": "code",
   "execution_count": null,
   "metadata": {
    "collapsed": true
   },
   "outputs": [],
   "source": [
    "d = deck.deal(5)"
   ]
  },
  {
   "cell_type": "markdown",
   "metadata": {},
   "source": [
    "###  <span style=\"color:teal\">2. &nbsp; BlackjackCard Class</span>"
   ]
  },
  {
   "cell_type": "markdown",
   "metadata": {},
   "source": [
    "Define a second new class called BlackjackCard. The new class should use Card as its base class. Overload the `points` method so that aces have 11 points, face cards (J, Q, K) have 10 points, and other cards have their natural value (10, 9, 8, *etc.* down to 2).\n",
    "\n",
    "You should also overload the `__lt__` operator so BlackjackCards are compared only by their rank, with aces highest, then kings, queens, *etc.*"
   ]
  },
  {
   "cell_type": "markdown",
   "metadata": {},
   "source": [
    "<pre>\n",
    ">>> y = BlackjackCard(38) \n",
    "\n",
    ">>> y\n",
    "A♥\n",
    "\n",
    ">>> y.points()\n",
    "11\n",
    "\n",
    ">>> z = BlackjackCard(39)\n",
    "\n",
    ">>> z\n",
    "2♠\n",
    "\n",
    ">>> z.points()\n",
    "2\n",
    "\n",
    ">>> y < z\n",
    "False\n",
    "</pre>"
   ]
  },
  {
   "cell_type": "markdown",
   "metadata": {},
   "source": [
    "<span style=\"color:blue\">Style Points:</span> &nbsp; Can you figure out how to have `__lt__` use the code you already wrote to compute the rank of a card?"
   ]
  },
  {
   "cell_type": "markdown",
   "metadata": {},
   "source": [
    "##### <span style=\"color:red\">Documentation:</span>"
   ]
  },
  {
   "cell_type": "markdown",
   "metadata": {},
   "source": [
    "Blackjack class inherits the Card class while overloading the `__lt__` and points function. The new points function uses a blackjack specific dictionary for new points values for face cards while calling the rank dictionary for the remaining point values. "
   ]
  },
  {
   "cell_type": "markdown",
   "metadata": {},
   "source": [
    "##### <span style=\"color:red\">Code:</span>"
   ]
  },
  {
   "cell_type": "code",
   "execution_count": 41,
   "metadata": {
    "collapsed": true
   },
   "outputs": [],
   "source": [
    "points = {\n",
    "    9: 10, 10: 10, 11: 10, 12: 11\n",
    "    }\n",
    "\n",
    "class BlackjackCard(Card):\n",
    "    \"\"\"\n",
    "    Takes a given card id and returns a calculated suit and rank and symbollic representation of card.\n",
    "    \"\"\"\n",
    "    \n",
    "    def __init__(self, c):\n",
    "        Card.__init__(self, c)\n",
    "        \n",
    "    def points(self):\n",
    "        \"\"\"\n",
    "        assigns and returns point values of cards.\n",
    "        \"\"\"\n",
    "        if self.rank() in points:\n",
    "            return points[self.rank()]\n",
    "        else:\n",
    "            return int(rank[self.rank()])  # dict values initially strings, convert to an integer\n",
    "        \n",
    "    def __lt__(self, other):\n",
    "        \"\"\"\n",
    "        compares cards based on rank.\n",
    "        \"\"\"\n",
    "        return self.rank() < other.rank()"
   ]
  },
  {
   "cell_type": "markdown",
   "metadata": {},
   "source": [
    "##### <span style=\"color:red\">Tests:</span>"
   ]
  },
  {
   "cell_type": "markdown",
   "metadata": {},
   "source": [
    "After you implement the constructor for the new class, execute this expression to make a complete deck of blackjack cards:"
   ]
  },
  {
   "cell_type": "code",
   "execution_count": 15,
   "metadata": {
    "collapsed": false
   },
   "outputs": [],
   "source": [
    "bj_deck = [ BlackjackCard(i) for i in range(52) ]"
   ]
  },
  {
   "cell_type": "code",
   "execution_count": 16,
   "metadata": {
    "collapsed": false
   },
   "outputs": [
    {
     "name": "stdout",
     "output_type": "stream",
     "text": [
      "[2♣, 3♣, 4♣, 5♣, 6♣, 7♣, 8♣, 9♣, 10♣, J♣, Q♣, K♣, A♣, 2♦, 3♦, 4♦, 5♦, 6♦, 7♦, 8♦, 9♦, 10♦, J♦, Q♦, K♦, A♦, 2♥, 3♥, 4♥, 5♥, 6♥, 7♥, 8♥, 9♥, 10♥, J♥, Q♥, K♥, A♥, 2♠, 3♠, 4♠, 5♠, 6♠, 7♠, 8♠, 9♠, 10♠, J♠, Q♠, K♠, A♠]\n"
     ]
    }
   ],
   "source": [
    "print(bj_deck)"
   ]
  },
  {
   "cell_type": "markdown",
   "metadata": {},
   "source": [
    "Use the following code cell plus any additional cells you want to print the new deck (it should look exactly like the previous deck) and test the methods of your Card class:"
   ]
  },
  {
   "cell_type": "code",
   "execution_count": 17,
   "metadata": {
    "collapsed": true
   },
   "outputs": [],
   "source": [
    "y = BlackjackCard(29)"
   ]
  },
  {
   "cell_type": "code",
   "execution_count": 18,
   "metadata": {
    "collapsed": false
   },
   "outputs": [
    {
     "data": {
      "text/plain": [
       "5♥"
      ]
     },
     "execution_count": 18,
     "metadata": {},
     "output_type": "execute_result"
    }
   ],
   "source": [
    "y"
   ]
  },
  {
   "cell_type": "code",
   "execution_count": 19,
   "metadata": {
    "collapsed": false
   },
   "outputs": [
    {
     "data": {
      "text/plain": [
       "2"
      ]
     },
     "execution_count": 19,
     "metadata": {},
     "output_type": "execute_result"
    }
   ],
   "source": [
    "y.suit()"
   ]
  },
  {
   "cell_type": "code",
   "execution_count": 20,
   "metadata": {
    "collapsed": false
   },
   "outputs": [
    {
     "data": {
      "text/plain": [
       "3"
      ]
     },
     "execution_count": 20,
     "metadata": {},
     "output_type": "execute_result"
    }
   ],
   "source": [
    "y.rank()"
   ]
  },
  {
   "cell_type": "code",
   "execution_count": 21,
   "metadata": {
    "collapsed": false
   },
   "outputs": [
    {
     "data": {
      "text/plain": [
       "5"
      ]
     },
     "execution_count": 21,
     "metadata": {},
     "output_type": "execute_result"
    }
   ],
   "source": [
    "y.points()"
   ]
  },
  {
   "cell_type": "code",
   "execution_count": 22,
   "metadata": {
    "collapsed": true
   },
   "outputs": [],
   "source": [
    "z = BlackjackCard(1)"
   ]
  },
  {
   "cell_type": "code",
   "execution_count": 23,
   "metadata": {
    "collapsed": false
   },
   "outputs": [
    {
     "data": {
      "text/plain": [
       "3♣"
      ]
     },
     "execution_count": 23,
     "metadata": {},
     "output_type": "execute_result"
    }
   ],
   "source": [
    "z"
   ]
  },
  {
   "cell_type": "code",
   "execution_count": 24,
   "metadata": {
    "collapsed": false
   },
   "outputs": [
    {
     "data": {
      "text/plain": [
       "False"
      ]
     },
     "execution_count": 24,
     "metadata": {},
     "output_type": "execute_result"
    }
   ],
   "source": [
    "y < z"
   ]
  },
  {
   "cell_type": "markdown",
   "metadata": {},
   "source": [
    "### <span style=\"color:teal\">3. &nbsp; The `total` Function</span>"
   ]
  },
  {
   "cell_type": "markdown",
   "metadata": {},
   "source": [
    "Write a function called `total` that will compute the sum of the number of points in a hand (a list of Card objects)."
   ]
  },
  {
   "cell_type": "markdown",
   "metadata": {},
   "source": [
    "To make a hand to test `total` use a function named `sample` from Python's `random` library.  This example assumes the list named `deck` contains 52 Card objects:\n",
    "<pre>\n",
    ">>> from random import sample\n",
    "\n",
    ">>> hand = sample(deck, 5)\n",
    ">>> hand\n",
    "[5♦, 3♦, K♠, J♠, 9♣]\n",
    "\n",
    ">>> total(hand)\n",
    "4\n",
    "</pre>"
   ]
  },
  {
   "cell_type": "markdown",
   "metadata": {},
   "source": [
    "In the example above the total is 4 because kings are worth 3 points and jacks are worth 1."
   ]
  },
  {
   "cell_type": "markdown",
   "metadata": {},
   "source": [
    "The same function should also be able to compute the total number of points in a hand made from BlackjackCard objects:\n",
    "<pre>\n",
    ">>> bj_hand = sample(bj_deck,3) \n",
    ">>> bj_hand\n",
    "[7♦, Q♦, 9♥]\n",
    "\n",
    ">>> total(bj_hand)\n",
    "26\n",
    "</pre>"
   ]
  },
  {
   "cell_type": "markdown",
   "metadata": {},
   "source": [
    "##### <span style=\"color:red\">Documentation:</span>"
   ]
  },
  {
   "cell_type": "markdown",
   "metadata": {},
   "source": [
    "A for loop cycles through each card in a hand and adds the point value of the card each time. Blackjack class uses the rank global dictionary where each value is a string, so each value is converted to an integer."
   ]
  },
  {
   "cell_type": "markdown",
   "metadata": {},
   "source": [
    "##### <span style=\"color:red\">Code:</span>"
   ]
  },
  {
   "cell_type": "code",
   "execution_count": 25,
   "metadata": {
    "collapsed": true
   },
   "outputs": [],
   "source": [
    "def total(hand):\n",
    "    \"\"\"\n",
    "    calculates and returns the total points of each hand. \n",
    "    \"\"\"\n",
    "    num = 0\n",
    "    \n",
    "    for card in hand:\n",
    "        num = num + int(card.points())\n",
    "    return num"
   ]
  },
  {
   "cell_type": "markdown",
   "metadata": {},
   "source": [
    "##### <span style=\"color:red\">Tests:</span>"
   ]
  },
  {
   "cell_type": "code",
   "execution_count": 26,
   "metadata": {
    "collapsed": true
   },
   "outputs": [],
   "source": [
    "from random import sample"
   ]
  },
  {
   "cell_type": "code",
   "execution_count": 27,
   "metadata": {
    "collapsed": true
   },
   "outputs": [],
   "source": [
    "c = sample(deck, 4)"
   ]
  },
  {
   "cell_type": "code",
   "execution_count": 28,
   "metadata": {
    "collapsed": false
   },
   "outputs": [
    {
     "data": {
      "text/plain": [
       "[9♦, A♦, J♦, A♣]"
      ]
     },
     "execution_count": 28,
     "metadata": {},
     "output_type": "execute_result"
    }
   ],
   "source": [
    "c"
   ]
  },
  {
   "cell_type": "code",
   "execution_count": 29,
   "metadata": {
    "collapsed": false
   },
   "outputs": [
    {
     "data": {
      "text/plain": [
       "32"
      ]
     },
     "execution_count": 29,
     "metadata": {},
     "output_type": "execute_result"
    }
   ],
   "source": [
    "total(c)"
   ]
  },
  {
   "cell_type": "code",
   "execution_count": 30,
   "metadata": {
    "collapsed": true
   },
   "outputs": [],
   "source": [
    "bj = sample(bj_deck, 3)"
   ]
  },
  {
   "cell_type": "code",
   "execution_count": 31,
   "metadata": {
    "collapsed": false
   },
   "outputs": [
    {
     "data": {
      "text/plain": [
       "[A♣, K♥, J♦]"
      ]
     },
     "execution_count": 31,
     "metadata": {},
     "output_type": "execute_result"
    }
   ],
   "source": [
    "bj"
   ]
  },
  {
   "cell_type": "code",
   "execution_count": 32,
   "metadata": {
    "collapsed": false
   },
   "outputs": [
    {
     "data": {
      "text/plain": [
       "31"
      ]
     },
     "execution_count": 32,
     "metadata": {},
     "output_type": "execute_result"
    }
   ],
   "source": [
    "total(bj)"
   ]
  },
  {
   "cell_type": "markdown",
   "metadata": {},
   "source": [
    "###new_deck"
   ]
  },
  {
   "cell_type": "code",
   "execution_count": 33,
   "metadata": {
    "collapsed": false
   },
   "outputs": [],
   "source": [
    "def new_deck(deck):\n",
    "    \"\"\"\n",
    "    take a class name and return a new deck of 52 cards.\n",
    "    \"\"\"\n",
    "    return [ deck(i) for i in range(52) ]\n",
    "    "
   ]
  },
  {
   "cell_type": "code",
   "execution_count": 34,
   "metadata": {
    "collapsed": true
   },
   "outputs": [],
   "source": [
    "hey = new_deck(Card)"
   ]
  },
  {
   "cell_type": "code",
   "execution_count": 35,
   "metadata": {
    "collapsed": false
   },
   "outputs": [
    {
     "name": "stdout",
     "output_type": "stream",
     "text": [
      "[2♣, 3♣, 4♣, 5♣, 6♣, 7♣, 8♣, 9♣, 10♣, J♣, Q♣, K♣, A♣, 2♦, 3♦, 4♦, 5♦, 6♦, 7♦, 8♦, 9♦, 10♦, J♦, Q♦, K♦, A♦, 2♥, 3♥, 4♥, 5♥, 6♥, 7♥, 8♥, 9♥, 10♥, J♥, Q♥, K♥, A♥, 2♠, 3♠, 4♠, 5♠, 6♠, 7♠, 8♠, 9♠, 10♠, J♠, Q♠, K♠, A♠]\n"
     ]
    }
   ],
   "source": [
    "print(hey)"
   ]
  },
  {
   "cell_type": "code",
   "execution_count": 36,
   "metadata": {
    "collapsed": false
   },
   "outputs": [
    {
     "data": {
      "text/plain": [
       "5♥"
      ]
     },
     "execution_count": 36,
     "metadata": {},
     "output_type": "execute_result"
    }
   ],
   "source": [
    "hey[29]"
   ]
  },
  {
   "cell_type": "code",
   "execution_count": 37,
   "metadata": {
    "collapsed": false
   },
   "outputs": [
    {
     "data": {
      "text/plain": [
       "0"
      ]
     },
     "execution_count": 37,
     "metadata": {},
     "output_type": "execute_result"
    }
   ],
   "source": [
    "hey[29].points()"
   ]
  },
  {
   "cell_type": "code",
   "execution_count": 38,
   "metadata": {
    "collapsed": true
   },
   "outputs": [],
   "source": [
    "blackj = new_deck(BlackjackCard)"
   ]
  },
  {
   "cell_type": "code",
   "execution_count": 39,
   "metadata": {
    "collapsed": false
   },
   "outputs": [
    {
     "data": {
      "text/plain": [
       "5♥"
      ]
     },
     "execution_count": 39,
     "metadata": {},
     "output_type": "execute_result"
    }
   ],
   "source": [
    "blackj[29]"
   ]
  },
  {
   "cell_type": "code",
   "execution_count": 40,
   "metadata": {
    "collapsed": false
   },
   "outputs": [
    {
     "data": {
      "text/plain": [
       "5"
      ]
     },
     "execution_count": 40,
     "metadata": {},
     "output_type": "execute_result"
    }
   ],
   "source": [
    "blackj[29].points()"
   ]
  },
  {
   "cell_type": "markdown",
   "metadata": {
    "collapsed": true
   },
   "source": [
    "### <span style=\"color:teal\">Extra Credit Ideas</span>"
   ]
  },
  {
   "cell_type": "markdown",
   "metadata": {},
   "source": [
    "If you want to earn extra credit points for this project try one of the extensions listed below (or feel free to invent other ways to extend the project).\n",
    "\n",
    "<span style=\"color:red; font-weight:bold;\">Important:</span>  To earn extra credit points make sure you fill in the following markup cell to explain what you did so the graders will look for your extensions when they grade your project:"
   ]
  },
  {
   "cell_type": "markdown",
   "metadata": {},
   "source": [
    "###Extra Credit Completed:\n",
    "\n",
    "* Card ID must be a value between 0 and 51 else a ValueError is raised. \n",
    "\n",
    "* `new_deck` function to return card objects of the given class."
   ]
  },
  {
   "cell_type": "markdown",
   "metadata": {},
   "source": [
    "#####  Validate the Argument Passed to Constructors"
   ]
  },
  {
   "cell_type": "markdown",
   "metadata": {},
   "source": [
    "Have the Card constructor check to make sure the card ID argument is between 0 and 51 and raise an exception otherwise."
   ]
  },
  {
   "cell_type": "markdown",
   "metadata": {},
   "source": [
    "##### Allow Strings or Integers to be Passed to Constructors"
   ]
  },
  {
   "cell_type": "markdown",
   "metadata": {},
   "source": [
    "Can you figure out how to allow users to pass either a card ID or a string with a specified rank and suit to the Card constructor?  For example, to create the ace of spades the call could be either `Card(51)` or `Card(‘A♠’)`. \n",
    "\n",
    "If you get this working, will the new technique for specifying cards be inherited by the BlackjackCard class, or do you have to add some additional code to the BlackjackCard constructor?"
   ]
  },
  {
   "cell_type": "markdown",
   "metadata": {},
   "source": [
    "##### Write a `new_deck` Function"
   ]
  },
  {
   "cell_type": "markdown",
   "metadata": {},
   "source": [
    "Write a function named `new_deck` that takes the name of a class as an argument and returns a list of 52 card objects of that type:\n",
    "<pre>\n",
    ">>> deck = new_deck(Card)\n",
    ">>> bj_deck = new_deck(BlackjackCard)\n",
    "</pre>"
   ]
  }
 ],
 "metadata": {
  "kernelspec": {
   "display_name": "Python 3",
   "language": "python",
   "name": "python3"
  },
  "language_info": {
   "codemirror_mode": {
    "name": "ipython",
    "version": 3
   },
   "file_extension": ".py",
   "mimetype": "text/x-python",
   "name": "python",
   "nbconvert_exporter": "python",
   "pygments_lexer": "ipython3",
   "version": "3.4.1"
  }
 },
 "nbformat": 4,
 "nbformat_minor": 0
}
